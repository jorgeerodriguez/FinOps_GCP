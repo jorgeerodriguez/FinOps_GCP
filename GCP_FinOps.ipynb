{
 "cells": [
  {
   "cell_type": "markdown",
   "metadata": {},
   "source": [
    "# ===================================\n",
    "# -- GCP FinOps Project - Jan 2025 --\n",
    "# ==================================="
   ]
  },
  {
   "cell_type": "markdown",
   "metadata": {},
   "source": [
    "## ------------------------------------\n",
    " Name: GCP_FinOps\n",
    " \n",
    " Author: Jorge Rodriguez\n",
    "\n",
    " Created: Jan-24-2025\n",
    "\n",
    " Last Compiled: Jan-30-2024\n",
    "\n",
    " Description: \n",
    " \n",
    " This program access Big Querry at GCP to access the Billing Table to get all the records for the time perido selectd\n",
    "## ------------------------------------"
   ]
  },
  {
   "cell_type": "code",
   "execution_count": 61,
   "metadata": {},
   "outputs": [],
   "source": [
    "#! pip3 install colorama\n",
    "#! pip3 install --upgrade google-cloud-bigquery\n",
    "#! pip3 install db-dtypes\n",
    "#----------- Google CLI <BEGIN> ----------------------\n",
    "# gcloud auth application-default login\n",
    "# Credentials saved to file: [/Users/jorge.rodriguez/.config/gcloud/application_default_credentials.json]\n",
    "# ---------- Google CLI <END> ------------------------"
   ]
  },
  {
   "cell_type": "code",
   "execution_count": 62,
   "metadata": {},
   "outputs": [],
   "source": [
    "# Copyright 2022 Google LLC\n",
    "#\n",
    "# Licensed under the Apache License, Version 2.0 (the \"License\");\n",
    "# you may not use this file except in compliance with the License.\n",
    "# You may obtain a copy of the License at\n",
    "#\n",
    "#      http://www.apache.org/licenses/LICENSE-2.0\n",
    "#\n",
    "# Unless required by applicable law or agreed to in writing, software\n",
    "# distributed under the License is distributed on an \"AS IS\" BASIS,\n",
    "# WITHOUT WARRANTIES OR CONDITIONS OF ANY KIND, either express or implied.\n",
    "# See the License for the specific language governing permissions and\n",
    "# limitations under the License.\n",
    "\n",
    "# from googleapiclient import discovery\n",
    "from google.cloud import bigquery\n",
    "#from google.cloud import billing\n",
    "from google.api_core import client_info as http_client_info\n",
    "from google.api_core.exceptions import PermissionDenied\n",
    "from google.cloud.exceptions import NotFound\n",
    "import argparse\n",
    "import sys\n",
    "#from colorama import Back\n",
    "#from colorama import Style\n",
    "import db_dtypes\n",
    "import pandas as pd\n",
    "from google.oauth2 import service_account\n",
    "from google.cloud.bigquery.schema import SchemaField\n",
    "from google.cloud import bigquery\n",
    "\n",
    "# Other packages\n",
    "import pandas as pd\n",
    "import json \n",
    "import ast\n",
    "import datetime\n",
    "import time\n",
    "from datetime import date\n",
    "from dateutil.relativedelta import relativedelta\n",
    "import seaborn as sns\n",
    "import subprocess\n",
    "from time import time, sleep\n",
    "import webbrowser\n",
    "import matplotlib.pyplot as plt\n"
   ]
  },
  {
   "cell_type": "markdown",
   "metadata": {},
   "source": [
    "# Connection to Big Query for the billing Project using the CLI Credentials, saved it locally"
   ]
  },
  {
   "cell_type": "code",
   "execution_count": 63,
   "metadata": {},
   "outputs": [
    {
     "name": "stderr",
     "output_type": "stream",
     "text": [
      "/Library/Frameworks/Python.framework/Versions/3.13/lib/python3.13/site-packages/google/auth/_default.py:76: UserWarning: Your application has authenticated using end user credentials from Google Cloud SDK without a quota project. You might receive a \"quota exceeded\" or \"API not enabled\" error. See the following page for troubleshooting: https://cloud.google.com/docs/authentication/adc-troubleshooting/user-creds. \n",
      "  warnings.warn(_CLOUD_SDK_CREDENTIALS_WARNING)\n"
     ]
    }
   ],
   "source": [
    "client = bigquery.Client(project='billing-query-371121')"
   ]
  },
  {
   "cell_type": "markdown",
   "metadata": {},
   "source": [
    "# Getting the Datasetes available at the project:"
   ]
  },
  {
   "cell_type": "code",
   "execution_count": 64,
   "metadata": {},
   "outputs": [
    {
     "name": "stdout",
     "output_type": "stream",
     "text": [
      "Datasets in project billing-query-371121:\n",
      "\tall_billing_data\n"
     ]
    }
   ],
   "source": [
    "datasets = list(client.list_datasets())  # Make an API request.\n",
    "project = client.project\n",
    "\n",
    "if datasets:\n",
    "    print(\"Datasets in project {}:\".format(project))\n",
    "    for dataset in datasets:\n",
    "        print(\"\\t{}\".format(dataset.dataset_id))\n",
    "else:\n",
    "    print(\"{} project does not contain any datasets.\".format(project))"
   ]
  },
  {
   "cell_type": "code",
   "execution_count": 65,
   "metadata": {},
   "outputs": [
    {
     "data": {
      "text/plain": [
       "'billing-query-371121.all_billing_data'"
      ]
     },
     "execution_count": 65,
     "metadata": {},
     "output_type": "execute_result"
    }
   ],
   "source": [
    "dataset_id = client.project + '.' + dataset.dataset_id\n",
    "dataset_id"
   ]
  },
  {
   "cell_type": "markdown",
   "metadata": {},
   "source": [
    "# Get the Table we need from the Dataset"
   ]
  },
  {
   "cell_type": "code",
   "execution_count": 66,
   "metadata": {},
   "outputs": [
    {
     "name": "stdout",
     "output_type": "stream",
     "text": [
      "Tables contained in 'billing-query-371121.all_billing_data':\n",
      "billing-query-371121.all_billing_data.gcp_billing_export_resource_v1_01C5AB_0209B1_81C892\n",
      "billing-query-371121.all_billing_data.gcp_billing_export_v1_01C5AB_0209B1_81C892\n"
     ]
    },
    {
     "data": {
      "text/plain": [
       "'all_billing_data.gcp_billing_export_v1_01C5AB_0209B1_81C892'"
      ]
     },
     "execution_count": 66,
     "metadata": {},
     "output_type": "execute_result"
    }
   ],
   "source": [
    "# TODO(developer): Set dataset_id to the ID of the dataset that contains\n",
    "#                  the tables you are listing.\n",
    "# dataset_id = 'your-project.your_dataset'\n",
    "\n",
    "\n",
    "tables = client.list_tables(dataset_id)  # Make an API request.\n",
    "\n",
    "print(\"Tables contained in '{}':\".format(dataset_id))\n",
    "for table in tables:\n",
    "    print(\"{}.{}.{}\".format(table.project, table.dataset_id, table.table_id))\n",
    "    table_id= table.project + '.' + table.dataset_id + '.'+ table.table_id\n",
    "\n",
    "table_id\n",
    "table = table.dataset_id + '.'+ table.table_id\n",
    "table\n"
   ]
  },
  {
   "cell_type": "markdown",
   "metadata": {},
   "source": [
    "# Select The Dates for the Report"
   ]
  },
  {
   "cell_type": "code",
   "execution_count": 67,
   "metadata": {},
   "outputs": [],
   "source": [
    "reportStart = '2025-02-01'\n",
    "reportEnd = '2025-03-01'\n",
    "reportYear = '2025'\n",
    "reportMonth = '02'\n"
   ]
  },
  {
   "cell_type": "markdown",
   "metadata": {},
   "source": [
    "# Create the SQL for the date"
   ]
  },
  {
   "cell_type": "code",
   "execution_count": 68,
   "metadata": {},
   "outputs": [
    {
     "data": {
      "text/plain": [
       "\"SELECT * FROM all_billing_data.gcp_billing_export_v1_01C5AB_0209B1_81C892 WHERE invoice.month = '202502'\""
      ]
     },
     "execution_count": 68,
     "metadata": {},
     "output_type": "execute_result"
    }
   ],
   "source": [
    "sql = \"SELECT * FROM \" + table + \" WHERE invoice.month = '\" + reportYear+reportMonth + \"'\"\n",
    "sql"
   ]
  },
  {
   "cell_type": "code",
   "execution_count": 69,
   "metadata": {},
   "outputs": [],
   "source": [
    "x = client.query(sql)"
   ]
  },
  {
   "cell_type": "code",
   "execution_count": 70,
   "metadata": {},
   "outputs": [
    {
     "name": "stderr",
     "output_type": "stream",
     "text": [
      "/Library/Frameworks/Python.framework/Versions/3.13/lib/python3.13/site-packages/google/cloud/bigquery/table.py:1820: UserWarning: BigQuery Storage module not found, fetch data with the REST endpoint instead.\n",
      "  warnings.warn(\n"
     ]
    }
   ],
   "source": [
    "df = x.to_dataframe()"
   ]
  },
  {
   "cell_type": "markdown",
   "metadata": {},
   "source": [
    "# Print the Total Cost GCP"
   ]
  },
  {
   "cell_type": "code",
   "execution_count": 13,
   "metadata": {},
   "outputs": [
    {
     "data": {
      "text/plain": [
       "np.float64(16555.924184)"
      ]
     },
     "execution_count": 13,
     "metadata": {},
     "output_type": "execute_result"
    }
   ],
   "source": [
    "df['cost'].sum()"
   ]
  },
  {
   "cell_type": "markdown",
   "metadata": {},
   "source": [
    "# Display the Schema "
   ]
  },
  {
   "cell_type": "code",
   "execution_count": 14,
   "metadata": {},
   "outputs": [
    {
     "name": "stdout",
     "output_type": "stream",
     "text": [
      "<class 'pandas.core.frame.DataFrame'>\n",
      "RangeIndex: 480029 entries, 0 to 480028\n",
      "Data columns (total 22 columns):\n",
      " #   Column                    Non-Null Count   Dtype              \n",
      "---  ------                    --------------   -----              \n",
      " 0   billing_account_id        480029 non-null  object             \n",
      " 1   service                   480029 non-null  object             \n",
      " 2   sku                       480029 non-null  object             \n",
      " 3   usage_start_time          480029 non-null  datetime64[us, UTC]\n",
      " 4   usage_end_time            480029 non-null  datetime64[us, UTC]\n",
      " 5   project                   480029 non-null  object             \n",
      " 6   labels                    480029 non-null  object             \n",
      " 7   system_labels             480029 non-null  object             \n",
      " 8   location                  480029 non-null  object             \n",
      " 9   tags                      480029 non-null  object             \n",
      " 10  export_time               480029 non-null  datetime64[us, UTC]\n",
      " 11  cost                      480029 non-null  float64            \n",
      " 12  currency                  480029 non-null  object             \n",
      " 13  currency_conversion_rate  480029 non-null  float64            \n",
      " 14  usage                     480029 non-null  object             \n",
      " 15  credits                   480029 non-null  object             \n",
      " 16  invoice                   480029 non-null  object             \n",
      " 17  cost_type                 480029 non-null  object             \n",
      " 18  adjustment_info           480029 non-null  object             \n",
      " 19  cost_at_list              480029 non-null  float64            \n",
      " 20  transaction_type          480029 non-null  object             \n",
      " 21  seller_name               477092 non-null  object             \n",
      "dtypes: datetime64[us, UTC](3), float64(3), object(16)\n",
      "memory usage: 80.6+ MB\n"
     ]
    }
   ],
   "source": [
    "df.info()"
   ]
  },
  {
   "cell_type": "markdown",
   "metadata": {},
   "source": [
    "# Split the Json format to indepedent columns in the dataframe for better consumption and visulization"
   ]
  },
  {
   "cell_type": "code",
   "execution_count": 15,
   "metadata": {},
   "outputs": [],
   "source": [
    "df['service_id'] = df['service'].apply(lambda x: x['id'])\n",
    "df['service_description'] = df['service'].apply(lambda x: x['description'])"
   ]
  },
  {
   "cell_type": "code",
   "execution_count": 16,
   "metadata": {},
   "outputs": [],
   "source": [
    "df['sku_id'] = df['sku'].apply(lambda x: (x)['id'])\n",
    "df['sku_description'] = df['sku'].apply(lambda x: (x)['description'])"
   ]
  },
  {
   "cell_type": "code",
   "execution_count": 17,
   "metadata": {},
   "outputs": [],
   "source": [
    "df['project_id'] = df['project'].apply(lambda x: (x)['id'])\n",
    "df['project_number'] = df['project'].apply(lambda x: (x)['number'])\n",
    "df['project_name'] = df['project'].apply(lambda x: (x)['name'])\n",
    "df['project_labels'] = df['project'].apply(lambda x: str((x)['labels']))\n",
    "df['project_ancestry_numbers'] = df['project'].apply(lambda x: (x)['ancestry_numbers'])\n",
    "df['project_ancestors'] = df['project'].apply(lambda x: str((x)['ancestors']))"
   ]
  },
  {
   "cell_type": "code",
   "execution_count": 18,
   "metadata": {},
   "outputs": [],
   "source": [
    "df['usage_amount'] = df['usage'].apply(lambda x: (x)['amount'])\n",
    "df['usage_unit'] = df['usage'].apply(lambda x: (x)['unit'])\n",
    "df['usage_amount_in_pricing_units'] = df['usage'].apply(lambda x: (x)['amount_in_pricing_units'])\n",
    "df['usage_pricing_unit'] = df['usage'].apply(lambda x: (x)['pricing_unit'])"
   ]
  },
  {
   "cell_type": "code",
   "execution_count": 19,
   "metadata": {},
   "outputs": [],
   "source": [
    "df['invoice_month'] = df['invoice'].apply(lambda x: x['month'][4:])\n",
    "df['invoice_year'] = df['invoice'].apply(lambda x: x['month'][0:4])\n",
    "df['invoice_publisher_type'] = df['invoice'].apply(lambda x: x['publisher_type'])"
   ]
  },
  {
   "cell_type": "code",
   "execution_count": 20,
   "metadata": {},
   "outputs": [
    {
     "data": {
      "text/plain": [
       "0         {'location': None, 'country': None, 'region': ...\n",
       "1         {'location': None, 'country': None, 'region': ...\n",
       "2         {'location': None, 'country': None, 'region': ...\n",
       "3         {'location': None, 'country': None, 'region': ...\n",
       "4         {'location': None, 'country': None, 'region': ...\n",
       "                                ...                        \n",
       "480024    {'location': 'us', 'country': 'US', 'region': ...\n",
       "480025    {'location': 'us', 'country': 'US', 'region': ...\n",
       "480026    {'location': 'us', 'country': 'US', 'region': ...\n",
       "480027    {'location': 'us-east1', 'country': 'US', 'reg...\n",
       "480028    {'location': 'us', 'country': 'US', 'region': ...\n",
       "Name: location, Length: 480029, dtype: object"
      ]
     },
     "execution_count": 20,
     "metadata": {},
     "output_type": "execute_result"
    }
   ],
   "source": [
    "df['location']"
   ]
  },
  {
   "cell_type": "code",
   "execution_count": 602,
   "metadata": {},
   "outputs": [],
   "source": [
    "'''\n",
    "df['location_location'] = None\n",
    "df['location_country'] = None\n",
    "df['location_region'] = None\n",
    "df['location_zone'] = None\n",
    "'''\n"
   ]
  },
  {
   "cell_type": "code",
   "execution_count": 21,
   "metadata": {},
   "outputs": [],
   "source": [
    "df['location_location'] = df['location'].apply(lambda x: (x)['location'])\n",
    "df['location_country'] = df['location'].apply(lambda x: (x)['country'])\n",
    "df['location_region'] = df['location'].apply(lambda x: (x)['region'])\n",
    "df['location_zone'] = df['location'].apply(lambda x: (x)['zone'])"
   ]
  },
  {
   "cell_type": "markdown",
   "metadata": {},
   "source": [
    "# Get record 0 as sample to validate all the fields are OK"
   ]
  },
  {
   "cell_type": "code",
   "execution_count": 22,
   "metadata": {},
   "outputs": [
    {
     "data": {
      "text/plain": [
       "billing_account_id                                            01C5AB-0209B1-81C892\n",
       "service                          {'id': '5490-F7B7-8DF6', 'description': 'Cloud...\n",
       "sku                              {'id': '143F-A1B0-E0BE', 'description': 'Log S...\n",
       "usage_start_time                                         2025-02-07 10:00:00+00:00\n",
       "usage_end_time                                           2025-02-07 11:00:00+00:00\n",
       "project                          {'id': 'adminql-93f0e', 'number': '53702907559...\n",
       "labels                             [{'key': 'goog-resource-type', 'value': 'api'}]\n",
       "system_labels                                                                   []\n",
       "location                         {'location': 'us', 'country': 'US', 'region': ...\n",
       "tags                                                                            []\n",
       "export_time                                       2025-02-07 13:26:45.946685+00:00\n",
       "cost                                                                           0.0\n",
       "currency                                                                       USD\n",
       "currency_conversion_rate                                                       1.0\n",
       "usage                            {'amount': 2064.0, 'unit': 'bytes', 'amount_in...\n",
       "credits                                                                         []\n",
       "invoice                            {'month': '202502', 'publisher_type': 'GOOGLE'}\n",
       "cost_type                                                                  regular\n",
       "adjustment_info                  {'id': None, 'description': None, 'mode': None...\n",
       "cost_at_list                                                                   0.0\n",
       "transaction_type                                                            GOOGLE\n",
       "seller_name                                                                 Google\n",
       "service_id                                                          5490-F7B7-8DF6\n",
       "service_description                                                  Cloud Logging\n",
       "sku_id                                                              143F-A1B0-E0BE\n",
       "sku_description                                                   Log Storage cost\n",
       "project_id                                                           adminql-93f0e\n",
       "project_number                                                        537029075592\n",
       "project_name                                                               AdminQL\n",
       "project_labels                   [{'key': 'cost-center', 'value': None}\\n {'key...\n",
       "project_ancestry_numbers         /531769238931/76298827890/943734183207/7607247...\n",
       "project_ancestors                [{'resource_name': 'projects/537029075592', 'd...\n",
       "usage_amount                                                                2064.0\n",
       "usage_unit                                                                   bytes\n",
       "usage_amount_in_pricing_units                                             0.000002\n",
       "usage_pricing_unit                                                        gibibyte\n",
       "invoice_month                                                                   02\n",
       "invoice_year                                                                  2025\n",
       "invoice_publisher_type                                                      GOOGLE\n",
       "location_location                                                               us\n",
       "location_country                                                                US\n",
       "location_region                                                               None\n",
       "location_zone                                                                 None\n",
       "Name: 200, dtype: object"
      ]
     },
     "execution_count": 22,
     "metadata": {},
     "output_type": "execute_result"
    }
   ],
   "source": [
    "df.iloc[200,:]"
   ]
  },
  {
   "cell_type": "code",
   "execution_count": 25,
   "metadata": {},
   "outputs": [
    {
     "data": {
      "text/plain": [
       "{'key': 'goog-resource-type', 'value': 'api'}"
      ]
     },
     "execution_count": 25,
     "metadata": {},
     "output_type": "execute_result"
    }
   ],
   "source": [
    "df.iloc[200,:]['labels'][0]"
   ]
  },
  {
   "cell_type": "code",
   "execution_count": 26,
   "metadata": {},
   "outputs": [],
   "source": [
    "#l = df[df['labels'] != \"[]\"]"
   ]
  },
  {
   "cell_type": "code",
   "execution_count": 27,
   "metadata": {},
   "outputs": [],
   "source": [
    "#l"
   ]
  },
  {
   "cell_type": "code",
   "execution_count": 28,
   "metadata": {},
   "outputs": [
    {
     "data": {
      "text/plain": [
       "array(['2025'], dtype=object)"
      ]
     },
     "execution_count": 28,
     "metadata": {},
     "output_type": "execute_result"
    }
   ],
   "source": [
    "df['invoice_year'].unique()"
   ]
  },
  {
   "cell_type": "code",
   "execution_count": 29,
   "metadata": {},
   "outputs": [
    {
     "data": {
      "text/plain": [
       "array(['02'], dtype=object)"
      ]
     },
     "execution_count": 29,
     "metadata": {},
     "output_type": "execute_result"
    }
   ],
   "source": [
    "df['invoice_month'].unique()"
   ]
  },
  {
   "cell_type": "code",
   "execution_count": 30,
   "metadata": {},
   "outputs": [
    {
     "data": {
      "text/plain": [
       "np.float64(16555.924184)"
      ]
     },
     "execution_count": 30,
     "metadata": {},
     "output_type": "execute_result"
    }
   ],
   "source": [
    "df['cost'].sum()"
   ]
  },
  {
   "cell_type": "markdown",
   "metadata": {},
   "source": [
    "# Get the name of the file to be saved it wiht the correct month and year"
   ]
  },
  {
   "cell_type": "code",
   "execution_count": 31,
   "metadata": {},
   "outputs": [
    {
     "data": {
      "text/plain": [
       "'GCP_Monthly_Cost_For_02_2025'"
      ]
     },
     "execution_count": 31,
     "metadata": {},
     "output_type": "execute_result"
    }
   ],
   "source": [
    "month = \"GCP_Monthly_Cost_For_\"+reportMonth+\"_\" + reportYear\n",
    "month"
   ]
  },
  {
   "cell_type": "markdown",
   "metadata": {},
   "source": [
    "# Save the Data as CSV"
   ]
  },
  {
   "cell_type": "code",
   "execution_count": 32,
   "metadata": {},
   "outputs": [],
   "source": [
    "df.to_csv(month+\".csv\")"
   ]
  },
  {
   "cell_type": "markdown",
   "metadata": {},
   "source": [
    "# Filter the Data for cost greather than $0.001"
   ]
  },
  {
   "cell_type": "code",
   "execution_count": 33,
   "metadata": {},
   "outputs": [],
   "source": [
    "df1 = df[df['cost'] > 0.001]"
   ]
  },
  {
   "cell_type": "code",
   "execution_count": 34,
   "metadata": {},
   "outputs": [
    {
     "data": {
      "text/plain": [
       "np.float64(16546.925933000002)"
      ]
     },
     "execution_count": 34,
     "metadata": {},
     "output_type": "execute_result"
    }
   ],
   "source": [
    "df1['cost'].sum()"
   ]
  },
  {
   "cell_type": "code",
   "execution_count": 35,
   "metadata": {},
   "outputs": [
    {
     "data": {
      "text/html": [
       "<div>\n",
       "<style scoped>\n",
       "    .dataframe tbody tr th:only-of-type {\n",
       "        vertical-align: middle;\n",
       "    }\n",
       "\n",
       "    .dataframe tbody tr th {\n",
       "        vertical-align: top;\n",
       "    }\n",
       "\n",
       "    .dataframe thead th {\n",
       "        text-align: right;\n",
       "    }\n",
       "</style>\n",
       "<table border=\"1\" class=\"dataframe\">\n",
       "  <thead>\n",
       "    <tr style=\"text-align: right;\">\n",
       "      <th></th>\n",
       "      <th></th>\n",
       "      <th></th>\n",
       "      <th></th>\n",
       "      <th>cost</th>\n",
       "      <th>Total in Thousands</th>\n",
       "    </tr>\n",
       "    <tr>\n",
       "      <th>invoice_year</th>\n",
       "      <th>invoice_month</th>\n",
       "      <th>project_id</th>\n",
       "      <th>project_name</th>\n",
       "      <th></th>\n",
       "      <th></th>\n",
       "    </tr>\n",
       "  </thead>\n",
       "  <tbody>\n",
       "    <tr>\n",
       "      <th rowspan=\"35\" valign=\"top\">2025</th>\n",
       "      <th rowspan=\"35\" valign=\"top\">02</th>\n",
       "      <th>a3-nonprod-482353</th>\n",
       "      <th>a3-nonprod</th>\n",
       "      <td>3.977906</td>\n",
       "      <td>0.003978</td>\n",
       "    </tr>\n",
       "    <tr>\n",
       "      <th>amperwave-adtech</th>\n",
       "      <th>amperwave-adtech</th>\n",
       "      <td>1.669150</td>\n",
       "      <td>0.001669</td>\n",
       "    </tr>\n",
       "    <tr>\n",
       "      <th>arched-hybrid-112221</th>\n",
       "      <th>BetQL Main</th>\n",
       "      <td>2278.156181</td>\n",
       "      <td>2.278156</td>\n",
       "    </tr>\n",
       "    <tr>\n",
       "      <th>aud-apigee-x-nonprod</th>\n",
       "      <th>aud-apigee-x-nonprod</th>\n",
       "      <td>41.316651</td>\n",
       "      <td>0.041317</td>\n",
       "    </tr>\n",
       "    <tr>\n",
       "      <th>aud-apigee-x-prod</th>\n",
       "      <th>aud-apigee-x-prod</th>\n",
       "      <td>287.162170</td>\n",
       "      <td>0.287162</td>\n",
       "    </tr>\n",
       "    <tr>\n",
       "      <th>aud-dc-code-repository</th>\n",
       "      <th>aud-dc-code-repository</th>\n",
       "      <td>705.602427</td>\n",
       "      <td>0.705602</td>\n",
       "    </tr>\n",
       "    <tr>\n",
       "      <th>aud-dc-fortinet-prod</th>\n",
       "      <th>aud-dc-fortinet-prod</th>\n",
       "      <td>0.600481</td>\n",
       "      <td>0.000600</td>\n",
       "    </tr>\n",
       "    <tr>\n",
       "      <th>audacy-data-sci-gen-ai-prod</th>\n",
       "      <th>audacy-data-sci-gen-ai-prod</th>\n",
       "      <td>7.085904</td>\n",
       "      <td>0.007086</td>\n",
       "    </tr>\n",
       "    <tr>\n",
       "      <th>audacy-data-science-gen-ai-dev</th>\n",
       "      <th>audacy-data-sci-gen-ai-dev</th>\n",
       "      <td>814.638135</td>\n",
       "      <td>0.814638</td>\n",
       "    </tr>\n",
       "    <tr>\n",
       "      <th>audacy-dc-backupdr</th>\n",
       "      <th>audacy-dc-backupdr</th>\n",
       "      <td>1359.911565</td>\n",
       "      <td>1.359912</td>\n",
       "    </tr>\n",
       "    <tr>\n",
       "      <th>audacy-dc-dev</th>\n",
       "      <th>audacy-dc-dev</th>\n",
       "      <td>273.478465</td>\n",
       "      <td>0.273478</td>\n",
       "    </tr>\n",
       "    <tr>\n",
       "      <th>billing-query-371121</th>\n",
       "      <th>billing-query</th>\n",
       "      <td>0.048405</td>\n",
       "      <td>0.000048</td>\n",
       "    </tr>\n",
       "    <tr>\n",
       "      <th>iceberg-prod</th>\n",
       "      <th>wo-wos-iceberg-prod</th>\n",
       "      <td>1.297770</td>\n",
       "      <td>0.001298</td>\n",
       "    </tr>\n",
       "    <tr>\n",
       "      <th>iceberg-qa</th>\n",
       "      <th>wo-wos-iceberg-qa</th>\n",
       "      <td>24.656342</td>\n",
       "      <td>0.024656</td>\n",
       "    </tr>\n",
       "    <tr>\n",
       "      <th>iceberg-staging</th>\n",
       "      <th>wo-wos-iceberg-staging</th>\n",
       "      <td>5.203390</td>\n",
       "      <td>0.005203</td>\n",
       "    </tr>\n",
       "    <tr>\n",
       "      <th>noc-task-assignment-zendesk</th>\n",
       "      <th>NOC-Task Assignment Zendesk</th>\n",
       "      <td>4.142080</td>\n",
       "      <td>0.004142</td>\n",
       "    </tr>\n",
       "    <tr>\n",
       "      <th>podcorn-376312</th>\n",
       "      <th>podcorn</th>\n",
       "      <td>1.180000</td>\n",
       "      <td>0.001180</td>\n",
       "    </tr>\n",
       "    <tr>\n",
       "      <th>prj-common-net-nonprod-2d37</th>\n",
       "      <th>prj-common-net-nonprod</th>\n",
       "      <td>0.805831</td>\n",
       "      <td>0.000806</td>\n",
       "    </tr>\n",
       "    <tr>\n",
       "      <th>prj-common-netsec-core-b233</th>\n",
       "      <th>prj-common-netsec-core</th>\n",
       "      <td>84.560104</td>\n",
       "      <td>0.084560</td>\n",
       "    </tr>\n",
       "    <tr>\n",
       "      <th>prj-fin-hd-nonprod-ce11</th>\n",
       "      <th>prj-fin-hd-nonprod</th>\n",
       "      <td>56.999004</td>\n",
       "      <td>0.056999</td>\n",
       "    </tr>\n",
       "    <tr>\n",
       "      <th>prj-fin-hd-prod-4e7c</th>\n",
       "      <th>prj-fin-hd-prod</th>\n",
       "      <td>47.481105</td>\n",
       "      <td>0.047481</td>\n",
       "    </tr>\n",
       "    <tr>\n",
       "      <th>prj-genai-nonprod-54b6</th>\n",
       "      <th>prj-genai-nonprod</th>\n",
       "      <td>112.157899</td>\n",
       "      <td>0.112158</td>\n",
       "    </tr>\n",
       "    <tr>\n",
       "      <th>prj-initiatives-nonprod-1703</th>\n",
       "      <th>prj-initiatives-nonprod</th>\n",
       "      <td>86.344005</td>\n",
       "      <td>0.086344</td>\n",
       "    </tr>\n",
       "    <tr>\n",
       "      <th>prj-org-seed-435208</th>\n",
       "      <th>prj-common-mgt-admin</th>\n",
       "      <td>0.020374</td>\n",
       "      <td>0.000020</td>\n",
       "    </tr>\n",
       "    <tr>\n",
       "      <th>prj-revops-prod-1db5</th>\n",
       "      <th>prj-revops-prod</th>\n",
       "      <td>1.406835</td>\n",
       "      <td>0.001407</td>\n",
       "    </tr>\n",
       "    <tr>\n",
       "      <th>rotoql-static</th>\n",
       "      <th>RotoQL Static</th>\n",
       "      <td>0.220779</td>\n",
       "      <td>0.000221</td>\n",
       "    </tr>\n",
       "    <tr>\n",
       "      <th>secops-opintel</th>\n",
       "      <th>secops-opintel</th>\n",
       "      <td>0.528139</td>\n",
       "      <td>0.000528</td>\n",
       "    </tr>\n",
       "    <tr>\n",
       "      <th>secops-terraform-dev</th>\n",
       "      <th>secops-terraform-dev</th>\n",
       "      <td>75.637607</td>\n",
       "      <td>0.075638</td>\n",
       "    </tr>\n",
       "    <tr>\n",
       "      <th>shared-vpc-nonprod-234563</th>\n",
       "      <th>shared-vpc-nonprod</th>\n",
       "      <td>0.771717</td>\n",
       "      <td>0.000772</td>\n",
       "    </tr>\n",
       "    <tr>\n",
       "      <th>sra-xdr-sentinel-330418</th>\n",
       "      <th>SRA-XDR-Sentinel</th>\n",
       "      <td>60.532347</td>\n",
       "      <td>0.060532</td>\n",
       "    </tr>\n",
       "    <tr>\n",
       "      <th>uap-ga360-data</th>\n",
       "      <th>UAP GA360 Data</th>\n",
       "      <td>75.105412</td>\n",
       "      <td>0.075105</td>\n",
       "    </tr>\n",
       "    <tr>\n",
       "      <th>wo-analytics-hub-poc</th>\n",
       "      <th>wo-analytics-hub-poc</th>\n",
       "      <td>0.089464</td>\n",
       "      <td>0.000089</td>\n",
       "    </tr>\n",
       "    <tr>\n",
       "      <th>wo-ondemand-qa</th>\n",
       "      <th>wo-ondemand-qa</th>\n",
       "      <td>15.585707</td>\n",
       "      <td>0.015586</td>\n",
       "    </tr>\n",
       "    <tr>\n",
       "      <th>wo-wos-reporting-291617</th>\n",
       "      <th>wo-wos-reporting-dev</th>\n",
       "      <td>284.311599</td>\n",
       "      <td>0.284312</td>\n",
       "    </tr>\n",
       "    <tr>\n",
       "      <th>wo-wos-reporting-prod</th>\n",
       "      <th>wo-wos-reporting-prod</th>\n",
       "      <td>8435.458567</td>\n",
       "      <td>8.435459</td>\n",
       "    </tr>\n",
       "  </tbody>\n",
       "</table>\n",
       "</div>"
      ],
      "text/plain": [
       "                                                                                              cost  \\\n",
       "invoice_year invoice_month project_id                     project_name                               \n",
       "2025         02            a3-nonprod-482353              a3-nonprod                      3.977906   \n",
       "                           amperwave-adtech               amperwave-adtech                1.669150   \n",
       "                           arched-hybrid-112221           BetQL Main                   2278.156181   \n",
       "                           aud-apigee-x-nonprod           aud-apigee-x-nonprod           41.316651   \n",
       "                           aud-apigee-x-prod              aud-apigee-x-prod             287.162170   \n",
       "                           aud-dc-code-repository         aud-dc-code-repository        705.602427   \n",
       "                           aud-dc-fortinet-prod           aud-dc-fortinet-prod            0.600481   \n",
       "                           audacy-data-sci-gen-ai-prod    audacy-data-sci-gen-ai-prod     7.085904   \n",
       "                           audacy-data-science-gen-ai-dev audacy-data-sci-gen-ai-dev    814.638135   \n",
       "                           audacy-dc-backupdr             audacy-dc-backupdr           1359.911565   \n",
       "                           audacy-dc-dev                  audacy-dc-dev                 273.478465   \n",
       "                           billing-query-371121           billing-query                   0.048405   \n",
       "                           iceberg-prod                   wo-wos-iceberg-prod             1.297770   \n",
       "                           iceberg-qa                     wo-wos-iceberg-qa              24.656342   \n",
       "                           iceberg-staging                wo-wos-iceberg-staging          5.203390   \n",
       "                           noc-task-assignment-zendesk    NOC-Task Assignment Zendesk     4.142080   \n",
       "                           podcorn-376312                 podcorn                         1.180000   \n",
       "                           prj-common-net-nonprod-2d37    prj-common-net-nonprod          0.805831   \n",
       "                           prj-common-netsec-core-b233    prj-common-netsec-core         84.560104   \n",
       "                           prj-fin-hd-nonprod-ce11        prj-fin-hd-nonprod             56.999004   \n",
       "                           prj-fin-hd-prod-4e7c           prj-fin-hd-prod                47.481105   \n",
       "                           prj-genai-nonprod-54b6         prj-genai-nonprod             112.157899   \n",
       "                           prj-initiatives-nonprod-1703   prj-initiatives-nonprod        86.344005   \n",
       "                           prj-org-seed-435208            prj-common-mgt-admin            0.020374   \n",
       "                           prj-revops-prod-1db5           prj-revops-prod                 1.406835   \n",
       "                           rotoql-static                  RotoQL Static                   0.220779   \n",
       "                           secops-opintel                 secops-opintel                  0.528139   \n",
       "                           secops-terraform-dev           secops-terraform-dev           75.637607   \n",
       "                           shared-vpc-nonprod-234563      shared-vpc-nonprod              0.771717   \n",
       "                           sra-xdr-sentinel-330418        SRA-XDR-Sentinel               60.532347   \n",
       "                           uap-ga360-data                 UAP GA360 Data                 75.105412   \n",
       "                           wo-analytics-hub-poc           wo-analytics-hub-poc            0.089464   \n",
       "                           wo-ondemand-qa                 wo-ondemand-qa                 15.585707   \n",
       "                           wo-wos-reporting-291617        wo-wos-reporting-dev          284.311599   \n",
       "                           wo-wos-reporting-prod          wo-wos-reporting-prod        8435.458567   \n",
       "\n",
       "                                                                                       Total in Thousands  \n",
       "invoice_year invoice_month project_id                     project_name                                     \n",
       "2025         02            a3-nonprod-482353              a3-nonprod                             0.003978  \n",
       "                           amperwave-adtech               amperwave-adtech                       0.001669  \n",
       "                           arched-hybrid-112221           BetQL Main                             2.278156  \n",
       "                           aud-apigee-x-nonprod           aud-apigee-x-nonprod                   0.041317  \n",
       "                           aud-apigee-x-prod              aud-apigee-x-prod                      0.287162  \n",
       "                           aud-dc-code-repository         aud-dc-code-repository                 0.705602  \n",
       "                           aud-dc-fortinet-prod           aud-dc-fortinet-prod                   0.000600  \n",
       "                           audacy-data-sci-gen-ai-prod    audacy-data-sci-gen-ai-prod            0.007086  \n",
       "                           audacy-data-science-gen-ai-dev audacy-data-sci-gen-ai-dev             0.814638  \n",
       "                           audacy-dc-backupdr             audacy-dc-backupdr                     1.359912  \n",
       "                           audacy-dc-dev                  audacy-dc-dev                          0.273478  \n",
       "                           billing-query-371121           billing-query                          0.000048  \n",
       "                           iceberg-prod                   wo-wos-iceberg-prod                    0.001298  \n",
       "                           iceberg-qa                     wo-wos-iceberg-qa                      0.024656  \n",
       "                           iceberg-staging                wo-wos-iceberg-staging                 0.005203  \n",
       "                           noc-task-assignment-zendesk    NOC-Task Assignment Zendesk            0.004142  \n",
       "                           podcorn-376312                 podcorn                                0.001180  \n",
       "                           prj-common-net-nonprod-2d37    prj-common-net-nonprod                 0.000806  \n",
       "                           prj-common-netsec-core-b233    prj-common-netsec-core                 0.084560  \n",
       "                           prj-fin-hd-nonprod-ce11        prj-fin-hd-nonprod                     0.056999  \n",
       "                           prj-fin-hd-prod-4e7c           prj-fin-hd-prod                        0.047481  \n",
       "                           prj-genai-nonprod-54b6         prj-genai-nonprod                      0.112158  \n",
       "                           prj-initiatives-nonprod-1703   prj-initiatives-nonprod                0.086344  \n",
       "                           prj-org-seed-435208            prj-common-mgt-admin                   0.000020  \n",
       "                           prj-revops-prod-1db5           prj-revops-prod                        0.001407  \n",
       "                           rotoql-static                  RotoQL Static                          0.000221  \n",
       "                           secops-opintel                 secops-opintel                         0.000528  \n",
       "                           secops-terraform-dev           secops-terraform-dev                   0.075638  \n",
       "                           shared-vpc-nonprod-234563      shared-vpc-nonprod                     0.000772  \n",
       "                           sra-xdr-sentinel-330418        SRA-XDR-Sentinel                       0.060532  \n",
       "                           uap-ga360-data                 UAP GA360 Data                         0.075105  \n",
       "                           wo-analytics-hub-poc           wo-analytics-hub-poc                   0.000089  \n",
       "                           wo-ondemand-qa                 wo-ondemand-qa                         0.015586  \n",
       "                           wo-wos-reporting-291617        wo-wos-reporting-dev                   0.284312  \n",
       "                           wo-wos-reporting-prod          wo-wos-reporting-prod                  8.435459  "
      ]
     },
     "execution_count": 35,
     "metadata": {},
     "output_type": "execute_result"
    }
   ],
   "source": [
    "total_per_account_df = df1.groupby(['invoice_year','invoice_month','project_id','project_name']).agg({'cost':'sum'})\n",
    "total_per_account_df['Total in Thousands'] = total_per_account_df['cost']/1000\n",
    "total_per_account_df"
   ]
  },
  {
   "cell_type": "code",
   "execution_count": 36,
   "metadata": {},
   "outputs": [
    {
     "data": {
      "text/plain": [
       "np.float64(15148.143517)"
      ]
     },
     "execution_count": 36,
     "metadata": {},
     "output_type": "execute_result"
    }
   ],
   "source": [
    "total_per_account_df['cost'].sum()"
   ]
  },
  {
   "cell_type": "code",
   "execution_count": 37,
   "metadata": {},
   "outputs": [
    {
     "data": {
      "text/plain": [
       "np.float64(16555.924184)"
      ]
     },
     "execution_count": 37,
     "metadata": {},
     "output_type": "execute_result"
    }
   ],
   "source": [
    "df['cost'].sum()"
   ]
  },
  {
   "cell_type": "code",
   "execution_count": 38,
   "metadata": {},
   "outputs": [
    {
     "name": "stderr",
     "output_type": "stream",
     "text": [
      "/var/folders/bc/rbbb9nc96zd3bj2l2mq3klq00000gp/T/ipykernel_11638/2756079435.py:18: UserWarning: set_ticklabels() should only be used with a fixed number of ticks, i.e. after set_ticks() or using a FixedLocator.\n",
      "  ax.set_xticklabels(ax.get_xticklabels(), rotation=90, ha='center')\n"
     ]
    },
    {
     "data": {
      "image/png": "[encoded data removed]",
      "text/plain": [
       "<Figure size 1500x1000 with 1 Axes>"
      ]
     },
     "metadata": {},
     "output_type": "display_data"
    }
   ],
   "source": [
    "sns.set_theme(style=\"whitegrid\")\n",
    "\n",
    "# Initialize the matplotlib figure\n",
    "fig, ax = plt.subplots(figsize=(15, 10))\n",
    "\n",
    "monthly_cost = 1\n",
    "#sns.set_color_codes(\"pastel\")\n",
    "sns.barplot(y=\"cost\", x=\"project_name\", data=total_per_account_df,\n",
    "            palette='light:g', hue='project_name', legend=False)\n",
    "\n",
    "\n",
    "# Add a legend and informative axis label\n",
    "#ax.legend(ncol=2, loc=\"lower right\", frameon=True)\n",
    "#ylim=(0, 35000),\n",
    "ax.set( xlabel=\"\",\n",
    "       ylabel=\"GCP Monthly Cost\")\n",
    "ax.set_title(\"GCP Accounts Cost per monht From: \" + reportStart + \" To: \" + reportEnd + '\\n')\n",
    "ax.set_xticklabels(ax.get_xticklabels(), rotation=90, ha='center')\n",
    "ax.yaxis.set_major_formatter(plt.FuncFormatter(lambda x, loc: \"${:,.2f}\".format(int(x))))\n",
    "#sns.despine(left=True, bottom=True)"
   ]
  },
  {
   "cell_type": "code",
   "execution_count": 39,
   "metadata": {},
   "outputs": [],
   "source": [
    "total_per_service_df = df1.groupby(['invoice_year','service_description']).agg(Total=('cost','sum'))"
   ]
  },
  {
   "cell_type": "code",
   "execution_count": 40,
   "metadata": {},
   "outputs": [
    {
     "data": {
      "text/plain": [
       "np.float64(16546.925933000002)"
      ]
     },
     "execution_count": 40,
     "metadata": {},
     "output_type": "execute_result"
    }
   ],
   "source": [
    "t = total_per_service_df['Total'].sum()\n",
    "t"
   ]
  },
  {
   "cell_type": "code",
   "execution_count": 41,
   "metadata": {},
   "outputs": [],
   "source": [
    "services_df = total_per_service_df[total_per_service_df['Total'] > 100]"
   ]
  },
  {
   "cell_type": "code",
   "execution_count": 42,
   "metadata": {},
   "outputs": [
    {
     "name": "stderr",
     "output_type": "stream",
     "text": [
      "/var/folders/bc/rbbb9nc96zd3bj2l2mq3klq00000gp/T/ipykernel_11638/3561150770.py:17: UserWarning: set_ticklabels() should only be used with a fixed number of ticks, i.e. after set_ticks() or using a FixedLocator.\n",
      "  ax.set_xticklabels(ax.get_xticklabels(), rotation=90, ha='center')\n"
     ]
    },
    {
     "data": {
      "image/png": "[encoded data removed]",
      "text/plain": [
       "<Figure size 1500x1000 with 1 Axes>"
      ]
     },
     "metadata": {},
     "output_type": "display_data"
    }
   ],
   "source": [
    "# Initialize the matplotlib figure\n",
    "fig, ax = plt.subplots(figsize=(15, 10))\n",
    "\n",
    "sns.barplot(x=\"service_description\", y=\"Total\", data=services_df,\n",
    "            hue='invoice_year', legend=True, color='green',palette='bright')\n",
    "\n",
    "\n",
    "# Add a legend and informative axis label\n",
    "#ax.legend(ncol=2, loc=\"lower right\", frameon=True)\n",
    "ax.set_xlabel(\"Service Name\")\n",
    "ax.set_ylabel(\"Cost\")\n",
    "ax.legend(title=\"Total Cost $\"+str(\"{:,.2f}\".format(t)))\n",
    "#ax.set_title(\"GCP Accounts Cost per monht From: \" + reportStart + \" To: \" + reportEnd + '\\n')\n",
    "ax.set_title(\"GCP Total Accumulated Cost for all Services over $100.00 From: \" + reportStart + \" To: \" + reportEnd + \"\\n\")\n",
    "#ax.set_title(\"AWS Total Cost for Jun, 2024 by Services over $100,000 \\n\")\n",
    "#plt.xticks(rotation=90) \n",
    "ax.set_xticklabels(ax.get_xticklabels(), rotation=90, ha='center')\n",
    "#ax.set_xticklabels(labels=services_df['Service'],rotation=45)\n",
    "plt.gcf().axes[0].yaxis.get_major_formatter().set_scientific(False)\n",
    "ax.yaxis.set_major_formatter(plt.FuncFormatter(lambda x, loc: \"${:,.2f}\".format(int(x))))\n",
    "plt.savefig(\"GCP Yearly Cost by Service ID\")"
   ]
  },
  {
   "cell_type": "markdown",
   "metadata": {},
   "source": [
    "# Reading all CSV Files:"
   ]
  },
  {
   "cell_type": "code",
   "execution_count": 43,
   "metadata": {},
   "outputs": [
    {
     "name": "stdout",
     "output_type": "stream",
     "text": [
      "reading File: GCP_Monthly_Cost_For_06_2024.csv\n"
     ]
    },
    {
     "name": "stderr",
     "output_type": "stream",
     "text": [
      "/var/folders/bc/rbbb9nc96zd3bj2l2mq3klq00000gp/T/ipykernel_11638/2974810727.py:12: DtypeWarning: Columns (43) have mixed types. Specify dtype option on import or set low_memory=False.\n",
      "  df = pd.read_csv(file)\n"
     ]
    },
    {
     "name": "stdout",
     "output_type": "stream",
     "text": [
      "reading File: GCP_Monthly_Cost_For_07_2024.csv\n"
     ]
    },
    {
     "name": "stderr",
     "output_type": "stream",
     "text": [
      "/var/folders/bc/rbbb9nc96zd3bj2l2mq3klq00000gp/T/ipykernel_11638/2974810727.py:12: DtypeWarning: Columns (43) have mixed types. Specify dtype option on import or set low_memory=False.\n",
      "  df = pd.read_csv(file)\n"
     ]
    },
    {
     "name": "stdout",
     "output_type": "stream",
     "text": [
      "reading File: GCP_Monthly_Cost_For_11_2023.csv\n"
     ]
    },
    {
     "name": "stderr",
     "output_type": "stream",
     "text": [
      "/var/folders/bc/rbbb9nc96zd3bj2l2mq3klq00000gp/T/ipykernel_11638/2974810727.py:12: DtypeWarning: Columns (43) have mixed types. Specify dtype option on import or set low_memory=False.\n",
      "  df = pd.read_csv(file)\n"
     ]
    },
    {
     "name": "stdout",
     "output_type": "stream",
     "text": [
      "reading File: GCP_Monthly_Cost_For_10_2023.csv\n",
      "reading File: GCP_Monthly_Cost_For_11_2024.csv\n"
     ]
    },
    {
     "name": "stderr",
     "output_type": "stream",
     "text": [
      "/var/folders/bc/rbbb9nc96zd3bj2l2mq3klq00000gp/T/ipykernel_11638/2974810727.py:12: DtypeWarning: Columns (22,39,43) have mixed types. Specify dtype option on import or set low_memory=False.\n",
      "  df = pd.read_csv(file)\n"
     ]
    },
    {
     "name": "stdout",
     "output_type": "stream",
     "text": [
      "reading File: GCP_Monthly_Cost_For_10_2024.csv\n"
     ]
    },
    {
     "name": "stderr",
     "output_type": "stream",
     "text": [
      "/var/folders/bc/rbbb9nc96zd3bj2l2mq3klq00000gp/T/ipykernel_11638/2974810727.py:12: DtypeWarning: Columns (43) have mixed types. Specify dtype option on import or set low_memory=False.\n",
      "  df = pd.read_csv(file)\n"
     ]
    },
    {
     "name": "stdout",
     "output_type": "stream",
     "text": [
      "reading File: GCP_Monthly_Cost_For_06_2023.csv\n"
     ]
    },
    {
     "name": "stderr",
     "output_type": "stream",
     "text": [
      "/var/folders/bc/rbbb9nc96zd3bj2l2mq3klq00000gp/T/ipykernel_11638/2974810727.py:12: DtypeWarning: Columns (43) have mixed types. Specify dtype option on import or set low_memory=False.\n",
      "  df = pd.read_csv(file)\n"
     ]
    },
    {
     "name": "stdout",
     "output_type": "stream",
     "text": [
      "reading File: GCP_Monthly_Cost_For_07_2023.csv\n"
     ]
    },
    {
     "name": "stderr",
     "output_type": "stream",
     "text": [
      "/var/folders/bc/rbbb9nc96zd3bj2l2mq3klq00000gp/T/ipykernel_11638/2974810727.py:12: DtypeWarning: Columns (43) have mixed types. Specify dtype option on import or set low_memory=False.\n",
      "  df = pd.read_csv(file)\n"
     ]
    },
    {
     "name": "stdout",
     "output_type": "stream",
     "text": [
      "reading File: GCP_Monthly_Cost_For_01_2023.csv\n"
     ]
    },
    {
     "name": "stderr",
     "output_type": "stream",
     "text": [
      "/var/folders/bc/rbbb9nc96zd3bj2l2mq3klq00000gp/T/ipykernel_11638/2974810727.py:12: DtypeWarning: Columns (19) have mixed types. Specify dtype option on import or set low_memory=False.\n",
      "  df = pd.read_csv(file)\n"
     ]
    },
    {
     "name": "stdout",
     "output_type": "stream",
     "text": [
      "reading File: GCP_Monthly_Cost_For_01_2024.csv\n",
      "reading File: GCP_Monthly_Cost_For_01_2025.csv\n"
     ]
    },
    {
     "name": "stderr",
     "output_type": "stream",
     "text": [
      "/var/folders/bc/rbbb9nc96zd3bj2l2mq3klq00000gp/T/ipykernel_11638/2974810727.py:12: DtypeWarning: Columns (43) have mixed types. Specify dtype option on import or set low_memory=False.\n",
      "  df = pd.read_csv(file)\n"
     ]
    },
    {
     "name": "stdout",
     "output_type": "stream",
     "text": [
      "reading File: GCP_Monthly_Cost_For_12_2024.csv\n"
     ]
    },
    {
     "name": "stderr",
     "output_type": "stream",
     "text": [
      "/var/folders/bc/rbbb9nc96zd3bj2l2mq3klq00000gp/T/ipykernel_11638/2974810727.py:12: DtypeWarning: Columns (43) have mixed types. Specify dtype option on import or set low_memory=False.\n",
      "  df = pd.read_csv(file)\n"
     ]
    },
    {
     "name": "stdout",
     "output_type": "stream",
     "text": [
      "reading File: GCP_Monthly_Cost_For_05_2023.csv\n"
     ]
    },
    {
     "name": "stderr",
     "output_type": "stream",
     "text": [
      "/var/folders/bc/rbbb9nc96zd3bj2l2mq3klq00000gp/T/ipykernel_11638/2974810727.py:12: DtypeWarning: Columns (43) have mixed types. Specify dtype option on import or set low_memory=False.\n",
      "  df = pd.read_csv(file)\n"
     ]
    },
    {
     "name": "stdout",
     "output_type": "stream",
     "text": [
      "reading File: GCP_Monthly_Cost_For_04_2023.csv\n"
     ]
    },
    {
     "name": "stderr",
     "output_type": "stream",
     "text": [
      "/var/folders/bc/rbbb9nc96zd3bj2l2mq3klq00000gp/T/ipykernel_11638/2974810727.py:12: DtypeWarning: Columns (43) have mixed types. Specify dtype option on import or set low_memory=False.\n",
      "  df = pd.read_csv(file)\n"
     ]
    },
    {
     "name": "stdout",
     "output_type": "stream",
     "text": [
      "reading File: GCP_Monthly_Cost_For_05_2024.csv\n"
     ]
    },
    {
     "name": "stderr",
     "output_type": "stream",
     "text": [
      "/var/folders/bc/rbbb9nc96zd3bj2l2mq3klq00000gp/T/ipykernel_11638/2974810727.py:12: DtypeWarning: Columns (43) have mixed types. Specify dtype option on import or set low_memory=False.\n",
      "  df = pd.read_csv(file)\n"
     ]
    },
    {
     "name": "stdout",
     "output_type": "stream",
     "text": [
      "reading File: GCP_Monthly_Cost_For_04_2024.csv\n"
     ]
    },
    {
     "name": "stderr",
     "output_type": "stream",
     "text": [
      "/var/folders/bc/rbbb9nc96zd3bj2l2mq3klq00000gp/T/ipykernel_11638/2974810727.py:12: DtypeWarning: Columns (43) have mixed types. Specify dtype option on import or set low_memory=False.\n",
      "  df = pd.read_csv(file)\n"
     ]
    },
    {
     "name": "stdout",
     "output_type": "stream",
     "text": [
      "reading File: GCP_Monthly_Cost_For_12_2023.csv\n"
     ]
    },
    {
     "name": "stderr",
     "output_type": "stream",
     "text": [
      "/var/folders/bc/rbbb9nc96zd3bj2l2mq3klq00000gp/T/ipykernel_11638/2974810727.py:12: DtypeWarning: Columns (43) have mixed types. Specify dtype option on import or set low_memory=False.\n",
      "  df = pd.read_csv(file)\n"
     ]
    },
    {
     "name": "stdout",
     "output_type": "stream",
     "text": [
      "reading File: GCP_Monthly_Cost_For_08_2024.csv\n"
     ]
    },
    {
     "name": "stderr",
     "output_type": "stream",
     "text": [
      "/var/folders/bc/rbbb9nc96zd3bj2l2mq3klq00000gp/T/ipykernel_11638/2974810727.py:12: DtypeWarning: Columns (43) have mixed types. Specify dtype option on import or set low_memory=False.\n",
      "  df = pd.read_csv(file)\n"
     ]
    },
    {
     "name": "stdout",
     "output_type": "stream",
     "text": [
      "reading File: GCP_Monthly_Cost_For_09_2024.csv\n",
      "reading File: GCP_Monthly_Cost_For_02_2024.csv\n"
     ]
    },
    {
     "name": "stderr",
     "output_type": "stream",
     "text": [
      "/var/folders/bc/rbbb9nc96zd3bj2l2mq3klq00000gp/T/ipykernel_11638/2974810727.py:12: DtypeWarning: Columns (43) have mixed types. Specify dtype option on import or set low_memory=False.\n",
      "  df = pd.read_csv(file)\n"
     ]
    },
    {
     "name": "stdout",
     "output_type": "stream",
     "text": [
      "reading File: GCP_Monthly_Cost_For_03_2024.csv\n"
     ]
    },
    {
     "name": "stderr",
     "output_type": "stream",
     "text": [
      "/var/folders/bc/rbbb9nc96zd3bj2l2mq3klq00000gp/T/ipykernel_11638/2974810727.py:12: DtypeWarning: Columns (43) have mixed types. Specify dtype option on import or set low_memory=False.\n",
      "  df = pd.read_csv(file)\n"
     ]
    },
    {
     "name": "stdout",
     "output_type": "stream",
     "text": [
      "reading File: GCP_Monthly_Cost_For_02_2025.csv\n"
     ]
    },
    {
     "name": "stderr",
     "output_type": "stream",
     "text": [
      "/var/folders/bc/rbbb9nc96zd3bj2l2mq3klq00000gp/T/ipykernel_11638/2974810727.py:12: DtypeWarning: Columns (43) have mixed types. Specify dtype option on import or set low_memory=False.\n",
      "  df = pd.read_csv(file)\n"
     ]
    },
    {
     "name": "stdout",
     "output_type": "stream",
     "text": [
      "reading File: GCP_Monthly_Cost_For_08_2023.csv\n"
     ]
    },
    {
     "name": "stderr",
     "output_type": "stream",
     "text": [
      "/var/folders/bc/rbbb9nc96zd3bj2l2mq3klq00000gp/T/ipykernel_11638/2974810727.py:12: DtypeWarning: Columns (21,43) have mixed types. Specify dtype option on import or set low_memory=False.\n",
      "  df = pd.read_csv(file)\n"
     ]
    },
    {
     "name": "stdout",
     "output_type": "stream",
     "text": [
      "reading File: GCP_Monthly_Cost_For_09_2023.csv\n"
     ]
    },
    {
     "name": "stderr",
     "output_type": "stream",
     "text": [
      "/var/folders/bc/rbbb9nc96zd3bj2l2mq3klq00000gp/T/ipykernel_11638/2974810727.py:12: DtypeWarning: Columns (43) have mixed types. Specify dtype option on import or set low_memory=False.\n",
      "  df = pd.read_csv(file)\n"
     ]
    },
    {
     "name": "stdout",
     "output_type": "stream",
     "text": [
      "reading File: GCP_Monthly_Cost_For_02_2023.csv\n"
     ]
    },
    {
     "name": "stderr",
     "output_type": "stream",
     "text": [
      "/var/folders/bc/rbbb9nc96zd3bj2l2mq3klq00000gp/T/ipykernel_11638/2974810727.py:12: DtypeWarning: Columns (19) have mixed types. Specify dtype option on import or set low_memory=False.\n",
      "  df = pd.read_csv(file)\n"
     ]
    },
    {
     "name": "stdout",
     "output_type": "stream",
     "text": [
      "reading File: GCP_Monthly_Cost_For_03_2023.csv\n"
     ]
    },
    {
     "name": "stderr",
     "output_type": "stream",
     "text": [
      "/var/folders/bc/rbbb9nc96zd3bj2l2mq3klq00000gp/T/ipykernel_11638/2974810727.py:12: DtypeWarning: Columns (19) have mixed types. Specify dtype option on import or set low_memory=False.\n",
      "  df = pd.read_csv(file)\n"
     ]
    },
    {
     "data": {
      "text/html": [
       "<div>\n",
       "<style scoped>\n",
       "    .dataframe tbody tr th:only-of-type {\n",
       "        vertical-align: middle;\n",
       "    }\n",
       "\n",
       "    .dataframe tbody tr th {\n",
       "        vertical-align: top;\n",
       "    }\n",
       "\n",
       "    .dataframe thead th {\n",
       "        text-align: right;\n",
       "    }\n",
       "</style>\n",
       "<table border=\"1\" class=\"dataframe\">\n",
       "  <thead>\n",
       "    <tr style=\"text-align: right;\">\n",
       "      <th></th>\n",
       "      <th>Unnamed: 0</th>\n",
       "      <th>billing_account_id</th>\n",
       "      <th>service</th>\n",
       "      <th>sku</th>\n",
       "      <th>usage_start_time</th>\n",
       "      <th>usage_end_time</th>\n",
       "      <th>project</th>\n",
       "      <th>labels</th>\n",
       "      <th>system_labels</th>\n",
       "      <th>location</th>\n",
       "      <th>...</th>\n",
       "      <th>usage_unit</th>\n",
       "      <th>usage_amount_in_pricing_units</th>\n",
       "      <th>usage_pricing_unit</th>\n",
       "      <th>invoice_month</th>\n",
       "      <th>invoice_year</th>\n",
       "      <th>invoice_publisher_type</th>\n",
       "      <th>location_location</th>\n",
       "      <th>location_country</th>\n",
       "      <th>location_region</th>\n",
       "      <th>location_zone</th>\n",
       "    </tr>\n",
       "  </thead>\n",
       "  <tbody>\n",
       "    <tr>\n",
       "      <th>15235204</th>\n",
       "      <td>180987</td>\n",
       "      <td>01C5AB-0209B1-81C892</td>\n",
       "      <td>{'id': 'A1E8-BE35-7EBC', 'description': 'Cloud...</td>\n",
       "      <td>{'id': '3EAB-48F3-A0D5', 'description': 'Subsc...</td>\n",
       "      <td>2024-05-25 00:00:00+00:00</td>\n",
       "      <td>2024-05-25 01:00:00+00:00</td>\n",
       "      <td>{'id': 'sra-xdr-sentinel-330418', 'number': '8...</td>\n",
       "      <td>[]</td>\n",
       "      <td>[]</td>\n",
       "      <td>{'location': 'europe-central2', 'country': 'PL...</td>\n",
       "      <td>...</td>\n",
       "      <td>byte-seconds</td>\n",
       "      <td>1.000000e-09</td>\n",
       "      <td>gibibyte month</td>\n",
       "      <td>5</td>\n",
       "      <td>2024</td>\n",
       "      <td>NaN</td>\n",
       "      <td>europe-central2</td>\n",
       "      <td>PL</td>\n",
       "      <td>europe-central2</td>\n",
       "      <td>NaN</td>\n",
       "    </tr>\n",
       "    <tr>\n",
       "      <th>21937560</th>\n",
       "      <td>348536</td>\n",
       "      <td>01C5AB-0209B1-81C892</td>\n",
       "      <td>{'id': 'E505-1604-58F8', 'description': 'Netwo...</td>\n",
       "      <td>{'id': '6F2D-F158-5D10', 'description': 'Netwo...</td>\n",
       "      <td>2025-02-01 23:00:00+00:00</td>\n",
       "      <td>2025-02-02 00:00:00+00:00</td>\n",
       "      <td>{'id': 'audacy-dc-backupdr', 'number': '372247...</td>\n",
       "      <td>[]</td>\n",
       "      <td>[]</td>\n",
       "      <td>{'location': 'us-central1', 'country': 'US', '...</td>\n",
       "      <td>...</td>\n",
       "      <td>seconds</td>\n",
       "      <td>3.984972e+01</td>\n",
       "      <td>hour</td>\n",
       "      <td>2</td>\n",
       "      <td>2025</td>\n",
       "      <td>GOOGLE</td>\n",
       "      <td>us-central1</td>\n",
       "      <td>US</td>\n",
       "      <td>us-central1</td>\n",
       "      <td>NaN</td>\n",
       "    </tr>\n",
       "    <tr>\n",
       "      <th>13511276</th>\n",
       "      <td>319215</td>\n",
       "      <td>01C5AB-0209B1-81C892</td>\n",
       "      <td>{'id': '5AF5-2C11-D467', 'description': 'Cloud...</td>\n",
       "      <td>{'id': '38BC-F861-2EB5', 'description': 'Redis...</td>\n",
       "      <td>2023-05-29 23:00:00+00:00</td>\n",
       "      <td>2023-05-30 00:00:00+00:00</td>\n",
       "      <td>{'id': 'arched-hybrid-112221', 'number': '9741...</td>\n",
       "      <td>[]</td>\n",
       "      <td>[]</td>\n",
       "      <td>{'location': 'us-central1', 'country': 'US', '...</td>\n",
       "      <td>...</td>\n",
       "      <td>byte-seconds</td>\n",
       "      <td>7.708333e-01</td>\n",
       "      <td>gibibyte hour</td>\n",
       "      <td>5</td>\n",
       "      <td>2023</td>\n",
       "      <td>NaN</td>\n",
       "      <td>us-central1</td>\n",
       "      <td>US</td>\n",
       "      <td>us-central1</td>\n",
       "      <td>NaN</td>\n",
       "    </tr>\n",
       "    <tr>\n",
       "      <th>15624313</th>\n",
       "      <td>570096</td>\n",
       "      <td>01C5AB-0209B1-81C892</td>\n",
       "      <td>{'id': '5490-F7B7-8DF6', 'description': 'Cloud...</td>\n",
       "      <td>{'id': '143F-A1B0-E0BE', 'description': 'Log S...</td>\n",
       "      <td>2024-05-03 07:00:00+00:00</td>\n",
       "      <td>2024-05-03 08:00:00+00:00</td>\n",
       "      <td>{'id': 'wo-wos-reporting-prod', 'number': '399...</td>\n",
       "      <td>[{'key': 'goog-resource-type', 'value': 'cloud...</td>\n",
       "      <td>[]</td>\n",
       "      <td>{'location': 'us', 'country': 'US', 'region': ...</td>\n",
       "      <td>...</td>\n",
       "      <td>bytes</td>\n",
       "      <td>1.812472e-02</td>\n",
       "      <td>gibibyte</td>\n",
       "      <td>5</td>\n",
       "      <td>2024</td>\n",
       "      <td>NaN</td>\n",
       "      <td>us</td>\n",
       "      <td>US</td>\n",
       "      <td>NaN</td>\n",
       "      <td>NaN</td>\n",
       "    </tr>\n",
       "    <tr>\n",
       "      <th>1944465</th>\n",
       "      <td>1035319</td>\n",
       "      <td>01C5AB-0209B1-81C892</td>\n",
       "      <td>{'id': '6F81-5844-456A', 'description': 'Compu...</td>\n",
       "      <td>{'id': '7EDC-324D-8320', 'description': 'Netwo...</td>\n",
       "      <td>2024-07-08 13:00:00+00:00</td>\n",
       "      <td>2024-07-08 14:00:00+00:00</td>\n",
       "      <td>{'id': 'arched-hybrid-112221', 'number': '9741...</td>\n",
       "      <td>[]</td>\n",
       "      <td>[]</td>\n",
       "      <td>{'location': 'us-central1', 'country': 'US', '...</td>\n",
       "      <td>...</td>\n",
       "      <td>bytes</td>\n",
       "      <td>2.407200e-05</td>\n",
       "      <td>gibibyte</td>\n",
       "      <td>7</td>\n",
       "      <td>2024</td>\n",
       "      <td>NaN</td>\n",
       "      <td>us-central1</td>\n",
       "      <td>US</td>\n",
       "      <td>us-central1</td>\n",
       "      <td>NaN</td>\n",
       "    </tr>\n",
       "    <tr>\n",
       "      <th>10338114</th>\n",
       "      <td>1423534</td>\n",
       "      <td>01C5AB-0209B1-81C892</td>\n",
       "      <td>{'id': 'E505-1604-58F8', 'description': 'Netwo...</td>\n",
       "      <td>{'id': '50F4-D7E5-3682', 'description': 'Netwo...</td>\n",
       "      <td>2025-01-04 15:00:00+00:00</td>\n",
       "      <td>2025-01-04 16:00:00+00:00</td>\n",
       "      <td>{'id': 'secops-terraform-dev', 'number': '2980...</td>\n",
       "      <td>[]</td>\n",
       "      <td>[]</td>\n",
       "      <td>{'location': 'us-central1', 'country': 'US', '...</td>\n",
       "      <td>...</td>\n",
       "      <td>seconds</td>\n",
       "      <td>2.016132e-03</td>\n",
       "      <td>month</td>\n",
       "      <td>1</td>\n",
       "      <td>2025</td>\n",
       "      <td>GOOGLE</td>\n",
       "      <td>us-central1</td>\n",
       "      <td>US</td>\n",
       "      <td>us-central1</td>\n",
       "      <td>NaN</td>\n",
       "    </tr>\n",
       "    <tr>\n",
       "      <th>2404733</th>\n",
       "      <td>446889</td>\n",
       "      <td>01C5AB-0209B1-81C892</td>\n",
       "      <td>{'id': '6F81-5844-456A', 'description': 'Compu...</td>\n",
       "      <td>{'id': '6B8F-E63D-832B', 'description': 'Netwo...</td>\n",
       "      <td>2023-11-27 22:00:00+00:00</td>\n",
       "      <td>2023-11-27 23:00:00+00:00</td>\n",
       "      <td>{'id': 'arched-hybrid-112221', 'number': '9741...</td>\n",
       "      <td>[]</td>\n",
       "      <td>[]</td>\n",
       "      <td>{'location': 'us-central1', 'country': 'US', '...</td>\n",
       "      <td>...</td>\n",
       "      <td>bytes</td>\n",
       "      <td>8.445950e-04</td>\n",
       "      <td>gibibyte</td>\n",
       "      <td>11</td>\n",
       "      <td>2023</td>\n",
       "      <td>NaN</td>\n",
       "      <td>us-central1</td>\n",
       "      <td>US</td>\n",
       "      <td>us-central1</td>\n",
       "      <td>NaN</td>\n",
       "    </tr>\n",
       "    <tr>\n",
       "      <th>6706154</th>\n",
       "      <td>166796</td>\n",
       "      <td>01C5AB-0209B1-81C892</td>\n",
       "      <td>{'id': 'A1E8-BE35-7EBC', 'description': 'Cloud...</td>\n",
       "      <td>{'id': 'A8B0-3AAC-6BBD', 'description': 'Inter...</td>\n",
       "      <td>2023-07-30 10:00:00+00:00</td>\n",
       "      <td>2023-07-30 11:00:00+00:00</td>\n",
       "      <td>{'id': 'sra-xdr-sentinel-330418', 'number': '8...</td>\n",
       "      <td>[]</td>\n",
       "      <td>[]</td>\n",
       "      <td>{'location': 'us-east4', 'country': 'US', 'reg...</td>\n",
       "      <td>...</td>\n",
       "      <td>bytes</td>\n",
       "      <td>4.854299e-03</td>\n",
       "      <td>gibibyte</td>\n",
       "      <td>7</td>\n",
       "      <td>2023</td>\n",
       "      <td>NaN</td>\n",
       "      <td>us-east4</td>\n",
       "      <td>US</td>\n",
       "      <td>us-east4</td>\n",
       "      <td>NaN</td>\n",
       "    </tr>\n",
       "    <tr>\n",
       "      <th>20993010</th>\n",
       "      <td>219343</td>\n",
       "      <td>01C5AB-0209B1-81C892</td>\n",
       "      <td>{'id': 'E505-1604-58F8', 'description': 'Netwo...</td>\n",
       "      <td>{'id': '6F2D-F158-5D10', 'description': 'Netwo...</td>\n",
       "      <td>2024-03-31 09:00:00+00:00</td>\n",
       "      <td>2024-03-31 10:00:00+00:00</td>\n",
       "      <td>{'id': 'audacy-dc-backupdr', 'number': '372247...</td>\n",
       "      <td>[]</td>\n",
       "      <td>[]</td>\n",
       "      <td>{'location': 'us-central1', 'country': 'US', '...</td>\n",
       "      <td>...</td>\n",
       "      <td>seconds</td>\n",
       "      <td>9.100000e+01</td>\n",
       "      <td>hour</td>\n",
       "      <td>3</td>\n",
       "      <td>2024</td>\n",
       "      <td>NaN</td>\n",
       "      <td>us-central1</td>\n",
       "      <td>US</td>\n",
       "      <td>us-central1</td>\n",
       "      <td>NaN</td>\n",
       "    </tr>\n",
       "    <tr>\n",
       "      <th>23875710</th>\n",
       "      <td>470206</td>\n",
       "      <td>01C5AB-0209B1-81C892</td>\n",
       "      <td>{'id': '6F81-5844-456A', 'description': 'Compu...</td>\n",
       "      <td>{'id': '5E0D-5F20-E67E', 'description': 'Netwo...</td>\n",
       "      <td>2023-02-24 22:00:00+00:00</td>\n",
       "      <td>2023-02-24 23:00:00+00:00</td>\n",
       "      <td>{'id': 'arched-hybrid-112221', 'number': '9741...</td>\n",
       "      <td>[]</td>\n",
       "      <td>[]</td>\n",
       "      <td>{'location': 'us-central1', 'country': 'US', '...</td>\n",
       "      <td>...</td>\n",
       "      <td>bytes</td>\n",
       "      <td>3.725290e-08</td>\n",
       "      <td>gibibyte</td>\n",
       "      <td>2</td>\n",
       "      <td>2023</td>\n",
       "      <td>NaN</td>\n",
       "      <td>NaN</td>\n",
       "      <td>NaN</td>\n",
       "      <td>NaN</td>\n",
       "      <td>NaN</td>\n",
       "    </tr>\n",
       "    <tr>\n",
       "      <th>10177819</th>\n",
       "      <td>1263239</td>\n",
       "      <td>01C5AB-0209B1-81C892</td>\n",
       "      <td>{'id': '6F81-5844-456A', 'description': 'Compu...</td>\n",
       "      <td>{'id': 'D72A-E5E4-973E', 'description': 'Netwo...</td>\n",
       "      <td>2025-01-09 05:00:00+00:00</td>\n",
       "      <td>2025-01-09 06:00:00+00:00</td>\n",
       "      <td>{'id': 'audacy-dc-dev', 'number': '77204542691...</td>\n",
       "      <td>[]</td>\n",
       "      <td>[]</td>\n",
       "      <td>{'location': 'us-central1', 'country': 'US', '...</td>\n",
       "      <td>...</td>\n",
       "      <td>bytes</td>\n",
       "      <td>8.922000e-06</td>\n",
       "      <td>gibibyte</td>\n",
       "      <td>1</td>\n",
       "      <td>2025</td>\n",
       "      <td>GOOGLE</td>\n",
       "      <td>us-central1</td>\n",
       "      <td>US</td>\n",
       "      <td>us-central1</td>\n",
       "      <td>NaN</td>\n",
       "    </tr>\n",
       "    <tr>\n",
       "      <th>11286664</th>\n",
       "      <td>138635</td>\n",
       "      <td>01C5AB-0209B1-81C892</td>\n",
       "      <td>{'id': '6F81-5844-456A', 'description': 'Compu...</td>\n",
       "      <td>{'id': '489B-BB53-0D77', 'description': 'VM st...</td>\n",
       "      <td>2024-12-23 18:00:00+00:00</td>\n",
       "      <td>2024-12-23 19:00:00+00:00</td>\n",
       "      <td>{'id': 'iceberg-qa', 'number': '131469407661',...</td>\n",
       "      <td>[]</td>\n",
       "      <td>[]</td>\n",
       "      <td>{'location': 'us-west1', 'country': 'US', 'reg...</td>\n",
       "      <td>...</td>\n",
       "      <td>byte-seconds</td>\n",
       "      <td>0.000000e+00</td>\n",
       "      <td>gibibyte hour</td>\n",
       "      <td>12</td>\n",
       "      <td>2024</td>\n",
       "      <td>GOOGLE</td>\n",
       "      <td>us-west1</td>\n",
       "      <td>US</td>\n",
       "      <td>us-west1</td>\n",
       "      <td>NaN</td>\n",
       "    </tr>\n",
       "    <tr>\n",
       "      <th>2579921</th>\n",
       "      <td>622077</td>\n",
       "      <td>01C5AB-0209B1-81C892</td>\n",
       "      <td>{'id': '6F81-5844-456A', 'description': 'Compu...</td>\n",
       "      <td>{'id': 'EE6A-FFA3-84D7', 'description': 'Licen...</td>\n",
       "      <td>2023-11-02 23:00:00+00:00</td>\n",
       "      <td>2023-11-03 00:00:00+00:00</td>\n",
       "      <td>{'id': 'arched-hybrid-112221', 'number': '9741...</td>\n",
       "      <td>[]</td>\n",
       "      <td>[{'key': 'compute.googleapis.com/cores', 'valu...</td>\n",
       "      <td>{'location': 'us-central1', 'country': 'US', '...</td>\n",
       "      <td>...</td>\n",
       "      <td>seconds</td>\n",
       "      <td>4.727778e-01</td>\n",
       "      <td>hour</td>\n",
       "      <td>11</td>\n",
       "      <td>2023</td>\n",
       "      <td>NaN</td>\n",
       "      <td>us-central1</td>\n",
       "      <td>US</td>\n",
       "      <td>us-central1</td>\n",
       "      <td>NaN</td>\n",
       "    </tr>\n",
       "    <tr>\n",
       "      <th>5016056</th>\n",
       "      <td>446535</td>\n",
       "      <td>01C5AB-0209B1-81C892</td>\n",
       "      <td>{'id': '1394-64A3-F0C6', 'description': 'Deep ...</td>\n",
       "      <td>{'id': '4454-774D-CBF3', 'description': 'Licen...</td>\n",
       "      <td>2024-10-17 10:00:00+00:00</td>\n",
       "      <td>2024-10-17 11:00:00+00:00</td>\n",
       "      <td>{'id': 'audacy-data-science-gen-ai-dev', 'numb...</td>\n",
       "      <td>[{'key': 'business-unit', 'value': 'data-team'...</td>\n",
       "      <td>[{'key': 'compute.googleapis.com/cores', 'valu...</td>\n",
       "      <td>{'location': 'us-central1', 'country': 'US', '...</td>\n",
       "      <td>...</td>\n",
       "      <td>seconds</td>\n",
       "      <td>1.000000e+00</td>\n",
       "      <td>hour</td>\n",
       "      <td>10</td>\n",
       "      <td>2024</td>\n",
       "      <td>NaN</td>\n",
       "      <td>us-central1</td>\n",
       "      <td>US</td>\n",
       "      <td>us-central1</td>\n",
       "      <td>NaN</td>\n",
       "    </tr>\n",
       "    <tr>\n",
       "      <th>15888281</th>\n",
       "      <td>834064</td>\n",
       "      <td>01C5AB-0209B1-81C892</td>\n",
       "      <td>{'id': 'E505-1604-58F8', 'description': 'Netwo...</td>\n",
       "      <td>{'id': '8111-FEE9-BFEE', 'description': 'Regio...</td>\n",
       "      <td>2024-05-30 08:00:00+00:00</td>\n",
       "      <td>2024-05-30 09:00:00+00:00</td>\n",
       "      <td>{'id': 'arched-hybrid-112221', 'number': '9741...</td>\n",
       "      <td>[]</td>\n",
       "      <td>[]</td>\n",
       "      <td>{'location': 'us-central1', 'country': 'US', '...</td>\n",
       "      <td>...</td>\n",
       "      <td>bytes</td>\n",
       "      <td>8.544628e-02</td>\n",
       "      <td>gibibyte</td>\n",
       "      <td>5</td>\n",
       "      <td>2024</td>\n",
       "      <td>NaN</td>\n",
       "      <td>us-central1</td>\n",
       "      <td>US</td>\n",
       "      <td>us-central1</td>\n",
       "      <td>NaN</td>\n",
       "    </tr>\n",
       "    <tr>\n",
       "      <th>2161524</th>\n",
       "      <td>203680</td>\n",
       "      <td>01C5AB-0209B1-81C892</td>\n",
       "      <td>{'id': '2062-016F-44A2', 'description': 'Suppo...</td>\n",
       "      <td>{'id': '7517-EEE3-D1DD', 'description': 'GCP S...</td>\n",
       "      <td>2023-11-07 02:00:00+00:00</td>\n",
       "      <td>2023-11-07 03:00:00+00:00</td>\n",
       "      <td>{'id': 'aud-dc-fortinet-prod', 'number': '9993...</td>\n",
       "      <td>[]</td>\n",
       "      <td>[]</td>\n",
       "      <td>{'location': None, 'country': None, 'region': ...</td>\n",
       "      <td>...</td>\n",
       "      <td>USD</td>\n",
       "      <td>-1.000000e-06</td>\n",
       "      <td>USD</td>\n",
       "      <td>11</td>\n",
       "      <td>2023</td>\n",
       "      <td>NaN</td>\n",
       "      <td>NaN</td>\n",
       "      <td>NaN</td>\n",
       "      <td>NaN</td>\n",
       "      <td>NaN</td>\n",
       "    </tr>\n",
       "    <tr>\n",
       "      <th>21275248</th>\n",
       "      <td>501581</td>\n",
       "      <td>01C5AB-0209B1-81C892</td>\n",
       "      <td>{'id': '6F81-5844-456A', 'description': 'Compu...</td>\n",
       "      <td>{'id': '6AE1-525F-8B80', 'description': 'Balan...</td>\n",
       "      <td>2024-03-28 21:00:00+00:00</td>\n",
       "      <td>2024-03-28 22:00:00+00:00</td>\n",
       "      <td>{'id': 'stof-anthos-poc', 'number': '444805035...</td>\n",
       "      <td>[]</td>\n",
       "      <td>[]</td>\n",
       "      <td>{'location': 'us-central1', 'country': 'US', '...</td>\n",
       "      <td>...</td>\n",
       "      <td>byte-seconds</td>\n",
       "      <td>2.530470e-01</td>\n",
       "      <td>gibibyte month</td>\n",
       "      <td>3</td>\n",
       "      <td>2024</td>\n",
       "      <td>NaN</td>\n",
       "      <td>us-central1</td>\n",
       "      <td>US</td>\n",
       "      <td>us-central1</td>\n",
       "      <td>NaN</td>\n",
       "    </tr>\n",
       "    <tr>\n",
       "      <th>11321847</th>\n",
       "      <td>173818</td>\n",
       "      <td>01C5AB-0209B1-81C892</td>\n",
       "      <td>{'id': '5490-F7B7-8DF6', 'description': 'Cloud...</td>\n",
       "      <td>{'id': '143F-A1B0-E0BE', 'description': 'Log S...</td>\n",
       "      <td>2024-12-23 19:00:00+00:00</td>\n",
       "      <td>2024-12-23 20:00:00+00:00</td>\n",
       "      <td>{'id': 'aud-apigee-x-nonprod', 'number': '4514...</td>\n",
       "      <td>[{'key': 'goog-resource-type', 'value': 'http_...</td>\n",
       "      <td>[]</td>\n",
       "      <td>{'location': 'us', 'country': 'US', 'region': ...</td>\n",
       "      <td>...</td>\n",
       "      <td>bytes</td>\n",
       "      <td>1.395040e-04</td>\n",
       "      <td>gibibyte</td>\n",
       "      <td>12</td>\n",
       "      <td>2024</td>\n",
       "      <td>GOOGLE</td>\n",
       "      <td>us</td>\n",
       "      <td>US</td>\n",
       "      <td>NaN</td>\n",
       "      <td>NaN</td>\n",
       "    </tr>\n",
       "    <tr>\n",
       "      <th>9702154</th>\n",
       "      <td>787574</td>\n",
       "      <td>01C5AB-0209B1-81C892</td>\n",
       "      <td>{'id': '5490-F7B7-8DF6', 'description': 'Cloud...</td>\n",
       "      <td>{'id': '143F-A1B0-E0BE', 'description': 'Log S...</td>\n",
       "      <td>2025-01-23 02:00:00+00:00</td>\n",
       "      <td>2025-01-23 03:00:00+00:00</td>\n",
       "      <td>{'id': 'aud-apigee-x-nonprod', 'number': '4514...</td>\n",
       "      <td>[{'key': 'goog-resource-type', 'value': 'dataf...</td>\n",
       "      <td>[]</td>\n",
       "      <td>{'location': 'us', 'country': 'US', 'region': ...</td>\n",
       "      <td>...</td>\n",
       "      <td>bytes</td>\n",
       "      <td>9.181700e-05</td>\n",
       "      <td>gibibyte</td>\n",
       "      <td>1</td>\n",
       "      <td>2025</td>\n",
       "      <td>GOOGLE</td>\n",
       "      <td>us</td>\n",
       "      <td>US</td>\n",
       "      <td>NaN</td>\n",
       "      <td>NaN</td>\n",
       "    </tr>\n",
       "    <tr>\n",
       "      <th>11245659</th>\n",
       "      <td>97630</td>\n",
       "      <td>01C5AB-0209B1-81C892</td>\n",
       "      <td>{'id': '5490-F7B7-8DF6', 'description': 'Cloud...</td>\n",
       "      <td>{'id': '143F-A1B0-E0BE', 'description': 'Log S...</td>\n",
       "      <td>2024-12-29 01:00:00+00:00</td>\n",
       "      <td>2024-12-29 02:00:00+00:00</td>\n",
       "      <td>{'id': 'prj-common-shared-prod-e038', 'number'...</td>\n",
       "      <td>[{'key': 'goog-resource-type', 'value': 'servi...</td>\n",
       "      <td>[]</td>\n",
       "      <td>{'location': 'us', 'country': 'US', 'region': ...</td>\n",
       "      <td>...</td>\n",
       "      <td>bytes</td>\n",
       "      <td>1.252000e-06</td>\n",
       "      <td>gibibyte</td>\n",
       "      <td>12</td>\n",
       "      <td>2024</td>\n",
       "      <td>GOOGLE</td>\n",
       "      <td>us</td>\n",
       "      <td>US</td>\n",
       "      <td>NaN</td>\n",
       "      <td>NaN</td>\n",
       "    </tr>\n",
       "    <tr>\n",
       "      <th>17758578</th>\n",
       "      <td>77520</td>\n",
       "      <td>01C5AB-0209B1-81C892</td>\n",
       "      <td>{'id': '6F81-5844-456A', 'description': 'Compu...</td>\n",
       "      <td>{'id': '03A5-1B2A-3485', 'description': 'Netwo...</td>\n",
       "      <td>2024-08-06 15:00:00+00:00</td>\n",
       "      <td>2024-08-06 16:00:00+00:00</td>\n",
       "      <td>{'id': 'arched-hybrid-112221', 'number': '9741...</td>\n",
       "      <td>[{'key': 'goog-aef-service-minorversion', 'val...</td>\n",
       "      <td>[]</td>\n",
       "      <td>{'location': 'us-central1', 'country': 'US', '...</td>\n",
       "      <td>...</td>\n",
       "      <td>bytes</td>\n",
       "      <td>5.277200e-05</td>\n",
       "      <td>gibibyte</td>\n",
       "      <td>8</td>\n",
       "      <td>2024</td>\n",
       "      <td>NaN</td>\n",
       "      <td>us-central1</td>\n",
       "      <td>US</td>\n",
       "      <td>us-central1</td>\n",
       "      <td>NaN</td>\n",
       "    </tr>\n",
       "    <tr>\n",
       "      <th>16535725</th>\n",
       "      <td>498050</td>\n",
       "      <td>01C5AB-0209B1-81C892</td>\n",
       "      <td>{'id': '6F81-5844-456A', 'description': 'Compu...</td>\n",
       "      <td>{'id': 'F239-15CB-5B98', 'description': 'Licen...</td>\n",
       "      <td>2024-04-14 17:00:00+00:00</td>\n",
       "      <td>2024-04-14 18:00:00+00:00</td>\n",
       "      <td>{'id': 'wo-wos-reporting-291617', 'number': '1...</td>\n",
       "      <td>[{'key': 'serverless-vpc-access', 'value': 're...</td>\n",
       "      <td>[{'key': 'compute.googleapis.com/cores', 'valu...</td>\n",
       "      <td>{'location': 'us-east1', 'country': 'US', 'reg...</td>\n",
       "      <td>...</td>\n",
       "      <td>byte-seconds</td>\n",
       "      <td>1.521667e+00</td>\n",
       "      <td>gibibyte hour</td>\n",
       "      <td>4</td>\n",
       "      <td>2024</td>\n",
       "      <td>NaN</td>\n",
       "      <td>us-east1</td>\n",
       "      <td>US</td>\n",
       "      <td>us-east1</td>\n",
       "      <td>NaN</td>\n",
       "    </tr>\n",
       "    <tr>\n",
       "      <th>16462373</th>\n",
       "      <td>424698</td>\n",
       "      <td>01C5AB-0209B1-81C892</td>\n",
       "      <td>{'id': '6F81-5844-456A', 'description': 'Compu...</td>\n",
       "      <td>{'id': '6AE1-525F-8B80', 'description': 'Balan...</td>\n",
       "      <td>2024-04-26 04:00:00+00:00</td>\n",
       "      <td>2024-04-26 05:00:00+00:00</td>\n",
       "      <td>{'id': 'audacy-dc-backupdr', 'number': '372247...</td>\n",
       "      <td>[]</td>\n",
       "      <td>[]</td>\n",
       "      <td>{'location': 'us-central1', 'country': 'US', '...</td>\n",
       "      <td>...</td>\n",
       "      <td>byte-seconds</td>\n",
       "      <td>1.027778e+00</td>\n",
       "      <td>gibibyte month</td>\n",
       "      <td>4</td>\n",
       "      <td>2024</td>\n",
       "      <td>NaN</td>\n",
       "      <td>us-central1</td>\n",
       "      <td>US</td>\n",
       "      <td>us-central1</td>\n",
       "      <td>NaN</td>\n",
       "    </tr>\n",
       "    <tr>\n",
       "      <th>19051210</th>\n",
       "      <td>154451</td>\n",
       "      <td>01C5AB-0209B1-81C892</td>\n",
       "      <td>{'id': '6F81-5844-456A', 'description': 'Compu...</td>\n",
       "      <td>{'id': 'EE6A-FFA3-84D7', 'description': 'Licen...</td>\n",
       "      <td>2024-09-18 15:00:00+00:00</td>\n",
       "      <td>2024-09-18 16:00:00+00:00</td>\n",
       "      <td>{'id': 'arched-hybrid-112221', 'number': '9741...</td>\n",
       "      <td>[]</td>\n",
       "      <td>[{'key': 'compute.googleapis.com/cores', 'valu...</td>\n",
       "      <td>{'location': 'us-central1', 'country': 'US', '...</td>\n",
       "      <td>...</td>\n",
       "      <td>seconds</td>\n",
       "      <td>3.000000e+00</td>\n",
       "      <td>hour</td>\n",
       "      <td>9</td>\n",
       "      <td>2024</td>\n",
       "      <td>NaN</td>\n",
       "      <td>us-central1</td>\n",
       "      <td>US</td>\n",
       "      <td>us-central1</td>\n",
       "      <td>NaN</td>\n",
       "    </tr>\n",
       "    <tr>\n",
       "      <th>11000765</th>\n",
       "      <td>2086185</td>\n",
       "      <td>01C5AB-0209B1-81C892</td>\n",
       "      <td>{'id': '6F81-5844-456A', 'description': 'Compu...</td>\n",
       "      <td>{'id': 'D973-5D65-BAB2', 'description': 'Stora...</td>\n",
       "      <td>2025-01-04 19:00:00+00:00</td>\n",
       "      <td>2025-01-04 20:00:00+00:00</td>\n",
       "      <td>{'id': 'audacy-dc-backupdr', 'number': '372247...</td>\n",
       "      <td>[]</td>\n",
       "      <td>[]</td>\n",
       "      <td>{'location': 'us-central1', 'country': 'US', '...</td>\n",
       "      <td>...</td>\n",
       "      <td>byte-seconds</td>\n",
       "      <td>8.020367e-01</td>\n",
       "      <td>gibibyte month</td>\n",
       "      <td>1</td>\n",
       "      <td>2025</td>\n",
       "      <td>GOOGLE</td>\n",
       "      <td>us-central1</td>\n",
       "      <td>US</td>\n",
       "      <td>us-central1</td>\n",
       "      <td>NaN</td>\n",
       "    </tr>\n",
       "    <tr>\n",
       "      <th>459149</th>\n",
       "      <td>459149</td>\n",
       "      <td>01C5AB-0209B1-81C892</td>\n",
       "      <td>{'id': '6F81-5844-456A', 'description': 'Compu...</td>\n",
       "      <td>{'id': 'F449-33EC-A5EF', 'description': 'E2 In...</td>\n",
       "      <td>2024-06-12 05:00:00+00:00</td>\n",
       "      <td>2024-06-12 06:00:00+00:00</td>\n",
       "      <td>{'id': 'wo-wos-reporting-291617', 'number': '1...</td>\n",
       "      <td>[{'key': 'serverless-vpc-access', 'value': 're...</td>\n",
       "      <td>[{'key': 'compute.googleapis.com/cores', 'valu...</td>\n",
       "      <td>{'location': 'us-east1', 'country': 'US', 'reg...</td>\n",
       "      <td>...</td>\n",
       "      <td>byte-seconds</td>\n",
       "      <td>5.261111e-01</td>\n",
       "      <td>gibibyte hour</td>\n",
       "      <td>6</td>\n",
       "      <td>2024</td>\n",
       "      <td>NaN</td>\n",
       "      <td>us-east1</td>\n",
       "      <td>US</td>\n",
       "      <td>us-east1</td>\n",
       "      <td>NaN</td>\n",
       "    </tr>\n",
       "    <tr>\n",
       "      <th>19252567</th>\n",
       "      <td>355808</td>\n",
       "      <td>01C5AB-0209B1-81C892</td>\n",
       "      <td>{'id': '6F81-5844-456A', 'description': 'Compu...</td>\n",
       "      <td>{'id': 'FDBC-6E3B-D4D8', 'description': 'Netwo...</td>\n",
       "      <td>2024-09-10 05:00:00+00:00</td>\n",
       "      <td>2024-09-10 06:00:00+00:00</td>\n",
       "      <td>{'id': 'arched-hybrid-112221', 'number': '9741...</td>\n",
       "      <td>[]</td>\n",
       "      <td>[]</td>\n",
       "      <td>{'location': 'us-central1', 'country': 'US', '...</td>\n",
       "      <td>...</td>\n",
       "      <td>bytes</td>\n",
       "      <td>1.979000e-05</td>\n",
       "      <td>gibibyte</td>\n",
       "      <td>9</td>\n",
       "      <td>2024</td>\n",
       "      <td>NaN</td>\n",
       "      <td>us-central1</td>\n",
       "      <td>US</td>\n",
       "      <td>us-central1</td>\n",
       "      <td>NaN</td>\n",
       "    </tr>\n",
       "    <tr>\n",
       "      <th>15627241</th>\n",
       "      <td>573024</td>\n",
       "      <td>01C5AB-0209B1-81C892</td>\n",
       "      <td>{'id': '2662-232A-AC11', 'description': 'Fireb...</td>\n",
       "      <td>{'id': '6B36-F770-533F', 'description': 'Stora...</td>\n",
       "      <td>2024-05-12 20:00:00+00:00</td>\n",
       "      <td>2024-05-12 21:00:00+00:00</td>\n",
       "      <td>{'id': 'adminql-93f0e', 'number': '53702907559...</td>\n",
       "      <td>[]</td>\n",
       "      <td>[]</td>\n",
       "      <td>{'location': 'us-central1-c', 'country': 'US',...</td>\n",
       "      <td>...</td>\n",
       "      <td>byte-seconds</td>\n",
       "      <td>4.582020e-04</td>\n",
       "      <td>gibibyte month</td>\n",
       "      <td>5</td>\n",
       "      <td>2024</td>\n",
       "      <td>NaN</td>\n",
       "      <td>us-central1-c</td>\n",
       "      <td>US</td>\n",
       "      <td>us-central1</td>\n",
       "      <td>us-central1-c</td>\n",
       "    </tr>\n",
       "    <tr>\n",
       "      <th>12393571</th>\n",
       "      <td>1245542</td>\n",
       "      <td>01C5AB-0209B1-81C892</td>\n",
       "      <td>{'id': '6F81-5844-456A', 'description': 'Compu...</td>\n",
       "      <td>{'id': 'CD20-B4CA-0F7C', 'description': 'Licen...</td>\n",
       "      <td>2024-12-14 21:00:00+00:00</td>\n",
       "      <td>2024-12-14 22:00:00+00:00</td>\n",
       "      <td>{'id': 'arched-hybrid-112221', 'number': '9741...</td>\n",
       "      <td>[]</td>\n",
       "      <td>[{'key': 'compute.googleapis.com/cores', 'valu...</td>\n",
       "      <td>{'location': 'us-central1', 'country': 'US', '...</td>\n",
       "      <td>...</td>\n",
       "      <td>byte-seconds</td>\n",
       "      <td>1.666667e-01</td>\n",
       "      <td>gibibyte hour</td>\n",
       "      <td>12</td>\n",
       "      <td>2024</td>\n",
       "      <td>GOOGLE</td>\n",
       "      <td>us-central1</td>\n",
       "      <td>US</td>\n",
       "      <td>us-central1</td>\n",
       "      <td>NaN</td>\n",
       "    </tr>\n",
       "    <tr>\n",
       "      <th>13420028</th>\n",
       "      <td>227967</td>\n",
       "      <td>01C5AB-0209B1-81C892</td>\n",
       "      <td>{'id': '6F81-5844-456A', 'description': 'Compu...</td>\n",
       "      <td>{'id': '7151-106A-2684', 'description': 'Netwo...</td>\n",
       "      <td>2023-05-17 18:00:00+00:00</td>\n",
       "      <td>2023-05-17 19:00:00+00:00</td>\n",
       "      <td>{'id': 'arched-hybrid-112221', 'number': '9741...</td>\n",
       "      <td>[{'key': 'http-server', 'value': None}\\n {'key...</td>\n",
       "      <td>[]</td>\n",
       "      <td>{'location': 'us-central1', 'country': 'US', '...</td>\n",
       "      <td>...</td>\n",
       "      <td>bytes</td>\n",
       "      <td>5.132000e-06</td>\n",
       "      <td>gibibyte</td>\n",
       "      <td>5</td>\n",
       "      <td>2023</td>\n",
       "      <td>NaN</td>\n",
       "      <td>us-central1</td>\n",
       "      <td>US</td>\n",
       "      <td>us-central1</td>\n",
       "      <td>NaN</td>\n",
       "    </tr>\n",
       "  </tbody>\n",
       "</table>\n",
       "<p>30 rows × 44 columns</p>\n",
       "</div>"
      ],
      "text/plain": [
       "          Unnamed: 0    billing_account_id  \\\n",
       "15235204      180987  01C5AB-0209B1-81C892   \n",
       "21937560      348536  01C5AB-0209B1-81C892   \n",
       "13511276      319215  01C5AB-0209B1-81C892   \n",
       "15624313      570096  01C5AB-0209B1-81C892   \n",
       "1944465      1035319  01C5AB-0209B1-81C892   \n",
       "10338114     1423534  01C5AB-0209B1-81C892   \n",
       "2404733       446889  01C5AB-0209B1-81C892   \n",
       "6706154       166796  01C5AB-0209B1-81C892   \n",
       "20993010      219343  01C5AB-0209B1-81C892   \n",
       "23875710      470206  01C5AB-0209B1-81C892   \n",
       "10177819     1263239  01C5AB-0209B1-81C892   \n",
       "11286664      138635  01C5AB-0209B1-81C892   \n",
       "2579921       622077  01C5AB-0209B1-81C892   \n",
       "5016056       446535  01C5AB-0209B1-81C892   \n",
       "15888281      834064  01C5AB-0209B1-81C892   \n",
       "2161524       203680  01C5AB-0209B1-81C892   \n",
       "21275248      501581  01C5AB-0209B1-81C892   \n",
       "11321847      173818  01C5AB-0209B1-81C892   \n",
       "9702154       787574  01C5AB-0209B1-81C892   \n",
       "11245659       97630  01C5AB-0209B1-81C892   \n",
       "17758578       77520  01C5AB-0209B1-81C892   \n",
       "16535725      498050  01C5AB-0209B1-81C892   \n",
       "16462373      424698  01C5AB-0209B1-81C892   \n",
       "19051210      154451  01C5AB-0209B1-81C892   \n",
       "11000765     2086185  01C5AB-0209B1-81C892   \n",
       "459149        459149  01C5AB-0209B1-81C892   \n",
       "19252567      355808  01C5AB-0209B1-81C892   \n",
       "15627241      573024  01C5AB-0209B1-81C892   \n",
       "12393571     1245542  01C5AB-0209B1-81C892   \n",
       "13420028      227967  01C5AB-0209B1-81C892   \n",
       "\n",
       "                                                    service  \\\n",
       "15235204  {'id': 'A1E8-BE35-7EBC', 'description': 'Cloud...   \n",
       "21937560  {'id': 'E505-1604-58F8', 'description': 'Netwo...   \n",
       "13511276  {'id': '5AF5-2C11-D467', 'description': 'Cloud...   \n",
       "15624313  {'id': '5490-F7B7-8DF6', 'description': 'Cloud...   \n",
       "1944465   {'id': '6F81-5844-456A', 'description': 'Compu...   \n",
       "10338114  {'id': 'E505-1604-58F8', 'description': 'Netwo...   \n",
       "2404733   {'id': '6F81-5844-456A', 'description': 'Compu...   \n",
       "6706154   {'id': 'A1E8-BE35-7EBC', 'description': 'Cloud...   \n",
       "20993010  {'id': 'E505-1604-58F8', 'description': 'Netwo...   \n",
       "23875710  {'id': '6F81-5844-456A', 'description': 'Compu...   \n",
       "10177819  {'id': '6F81-5844-456A', 'description': 'Compu...   \n",
       "11286664  {'id': '6F81-5844-456A', 'description': 'Compu...   \n",
       "2579921   {'id': '6F81-5844-456A', 'description': 'Compu...   \n",
       "5016056   {'id': '1394-64A3-F0C6', 'description': 'Deep ...   \n",
       "15888281  {'id': 'E505-1604-58F8', 'description': 'Netwo...   \n",
       "2161524   {'id': '2062-016F-44A2', 'description': 'Suppo...   \n",
       "21275248  {'id': '6F81-5844-456A', 'description': 'Compu...   \n",
       "11321847  {'id': '5490-F7B7-8DF6', 'description': 'Cloud...   \n",
       "9702154   {'id': '5490-F7B7-8DF6', 'description': 'Cloud...   \n",
       "11245659  {'id': '5490-F7B7-8DF6', 'description': 'Cloud...   \n",
       "17758578  {'id': '6F81-5844-456A', 'description': 'Compu...   \n",
       "16535725  {'id': '6F81-5844-456A', 'description': 'Compu...   \n",
       "16462373  {'id': '6F81-5844-456A', 'description': 'Compu...   \n",
       "19051210  {'id': '6F81-5844-456A', 'description': 'Compu...   \n",
       "11000765  {'id': '6F81-5844-456A', 'description': 'Compu...   \n",
       "459149    {'id': '6F81-5844-456A', 'description': 'Compu...   \n",
       "19252567  {'id': '6F81-5844-456A', 'description': 'Compu...   \n",
       "15627241  {'id': '2662-232A-AC11', 'description': 'Fireb...   \n",
       "12393571  {'id': '6F81-5844-456A', 'description': 'Compu...   \n",
       "13420028  {'id': '6F81-5844-456A', 'description': 'Compu...   \n",
       "\n",
       "                                                        sku  \\\n",
       "15235204  {'id': '3EAB-48F3-A0D5', 'description': 'Subsc...   \n",
       "21937560  {'id': '6F2D-F158-5D10', 'description': 'Netwo...   \n",
       "13511276  {'id': '38BC-F861-2EB5', 'description': 'Redis...   \n",
       "15624313  {'id': '143F-A1B0-E0BE', 'description': 'Log S...   \n",
       "1944465   {'id': '7EDC-324D-8320', 'description': 'Netwo...   \n",
       "10338114  {'id': '50F4-D7E5-3682', 'description': 'Netwo...   \n",
       "2404733   {'id': '6B8F-E63D-832B', 'description': 'Netwo...   \n",
       "6706154   {'id': 'A8B0-3AAC-6BBD', 'description': 'Inter...   \n",
       "20993010  {'id': '6F2D-F158-5D10', 'description': 'Netwo...   \n",
       "23875710  {'id': '5E0D-5F20-E67E', 'description': 'Netwo...   \n",
       "10177819  {'id': 'D72A-E5E4-973E', 'description': 'Netwo...   \n",
       "11286664  {'id': '489B-BB53-0D77', 'description': 'VM st...   \n",
       "2579921   {'id': 'EE6A-FFA3-84D7', 'description': 'Licen...   \n",
       "5016056   {'id': '4454-774D-CBF3', 'description': 'Licen...   \n",
       "15888281  {'id': '8111-FEE9-BFEE', 'description': 'Regio...   \n",
       "2161524   {'id': '7517-EEE3-D1DD', 'description': 'GCP S...   \n",
       "21275248  {'id': '6AE1-525F-8B80', 'description': 'Balan...   \n",
       "11321847  {'id': '143F-A1B0-E0BE', 'description': 'Log S...   \n",
       "9702154   {'id': '143F-A1B0-E0BE', 'description': 'Log S...   \n",
       "11245659  {'id': '143F-A1B0-E0BE', 'description': 'Log S...   \n",
       "17758578  {'id': '03A5-1B2A-3485', 'description': 'Netwo...   \n",
       "16535725  {'id': 'F239-15CB-5B98', 'description': 'Licen...   \n",
       "16462373  {'id': '6AE1-525F-8B80', 'description': 'Balan...   \n",
       "19051210  {'id': 'EE6A-FFA3-84D7', 'description': 'Licen...   \n",
       "11000765  {'id': 'D973-5D65-BAB2', 'description': 'Stora...   \n",
       "459149    {'id': 'F449-33EC-A5EF', 'description': 'E2 In...   \n",
       "19252567  {'id': 'FDBC-6E3B-D4D8', 'description': 'Netwo...   \n",
       "15627241  {'id': '6B36-F770-533F', 'description': 'Stora...   \n",
       "12393571  {'id': 'CD20-B4CA-0F7C', 'description': 'Licen...   \n",
       "13420028  {'id': '7151-106A-2684', 'description': 'Netwo...   \n",
       "\n",
       "                   usage_start_time             usage_end_time  \\\n",
       "15235204  2024-05-25 00:00:00+00:00  2024-05-25 01:00:00+00:00   \n",
       "21937560  2025-02-01 23:00:00+00:00  2025-02-02 00:00:00+00:00   \n",
       "13511276  2023-05-29 23:00:00+00:00  2023-05-30 00:00:00+00:00   \n",
       "15624313  2024-05-03 07:00:00+00:00  2024-05-03 08:00:00+00:00   \n",
       "1944465   2024-07-08 13:00:00+00:00  2024-07-08 14:00:00+00:00   \n",
       "10338114  2025-01-04 15:00:00+00:00  2025-01-04 16:00:00+00:00   \n",
       "2404733   2023-11-27 22:00:00+00:00  2023-11-27 23:00:00+00:00   \n",
       "6706154   2023-07-30 10:00:00+00:00  2023-07-30 11:00:00+00:00   \n",
       "20993010  2024-03-31 09:00:00+00:00  2024-03-31 10:00:00+00:00   \n",
       "23875710  2023-02-24 22:00:00+00:00  2023-02-24 23:00:00+00:00   \n",
       "10177819  2025-01-09 05:00:00+00:00  2025-01-09 06:00:00+00:00   \n",
       "11286664  2024-12-23 18:00:00+00:00  2024-12-23 19:00:00+00:00   \n",
       "2579921   2023-11-02 23:00:00+00:00  2023-11-03 00:00:00+00:00   \n",
       "5016056   2024-10-17 10:00:00+00:00  2024-10-17 11:00:00+00:00   \n",
       "15888281  2024-05-30 08:00:00+00:00  2024-05-30 09:00:00+00:00   \n",
       "2161524   2023-11-07 02:00:00+00:00  2023-11-07 03:00:00+00:00   \n",
       "21275248  2024-03-28 21:00:00+00:00  2024-03-28 22:00:00+00:00   \n",
       "11321847  2024-12-23 19:00:00+00:00  2024-12-23 20:00:00+00:00   \n",
       "9702154   2025-01-23 02:00:00+00:00  2025-01-23 03:00:00+00:00   \n",
       "11245659  2024-12-29 01:00:00+00:00  2024-12-29 02:00:00+00:00   \n",
       "17758578  2024-08-06 15:00:00+00:00  2024-08-06 16:00:00+00:00   \n",
       "16535725  2024-04-14 17:00:00+00:00  2024-04-14 18:00:00+00:00   \n",
       "16462373  2024-04-26 04:00:00+00:00  2024-04-26 05:00:00+00:00   \n",
       "19051210  2024-09-18 15:00:00+00:00  2024-09-18 16:00:00+00:00   \n",
       "11000765  2025-01-04 19:00:00+00:00  2025-01-04 20:00:00+00:00   \n",
       "459149    2024-06-12 05:00:00+00:00  2024-06-12 06:00:00+00:00   \n",
       "19252567  2024-09-10 05:00:00+00:00  2024-09-10 06:00:00+00:00   \n",
       "15627241  2024-05-12 20:00:00+00:00  2024-05-12 21:00:00+00:00   \n",
       "12393571  2024-12-14 21:00:00+00:00  2024-12-14 22:00:00+00:00   \n",
       "13420028  2023-05-17 18:00:00+00:00  2023-05-17 19:00:00+00:00   \n",
       "\n",
       "                                                    project  \\\n",
       "15235204  {'id': 'sra-xdr-sentinel-330418', 'number': '8...   \n",
       "21937560  {'id': 'audacy-dc-backupdr', 'number': '372247...   \n",
       "13511276  {'id': 'arched-hybrid-112221', 'number': '9741...   \n",
       "15624313  {'id': 'wo-wos-reporting-prod', 'number': '399...   \n",
       "1944465   {'id': 'arched-hybrid-112221', 'number': '9741...   \n",
       "10338114  {'id': 'secops-terraform-dev', 'number': '2980...   \n",
       "2404733   {'id': 'arched-hybrid-112221', 'number': '9741...   \n",
       "6706154   {'id': 'sra-xdr-sentinel-330418', 'number': '8...   \n",
       "20993010  {'id': 'audacy-dc-backupdr', 'number': '372247...   \n",
       "23875710  {'id': 'arched-hybrid-112221', 'number': '9741...   \n",
       "10177819  {'id': 'audacy-dc-dev', 'number': '77204542691...   \n",
       "11286664  {'id': 'iceberg-qa', 'number': '131469407661',...   \n",
       "2579921   {'id': 'arched-hybrid-112221', 'number': '9741...   \n",
       "5016056   {'id': 'audacy-data-science-gen-ai-dev', 'numb...   \n",
       "15888281  {'id': 'arched-hybrid-112221', 'number': '9741...   \n",
       "2161524   {'id': 'aud-dc-fortinet-prod', 'number': '9993...   \n",
       "21275248  {'id': 'stof-anthos-poc', 'number': '444805035...   \n",
       "11321847  {'id': 'aud-apigee-x-nonprod', 'number': '4514...   \n",
       "9702154   {'id': 'aud-apigee-x-nonprod', 'number': '4514...   \n",
       "11245659  {'id': 'prj-common-shared-prod-e038', 'number'...   \n",
       "17758578  {'id': 'arched-hybrid-112221', 'number': '9741...   \n",
       "16535725  {'id': 'wo-wos-reporting-291617', 'number': '1...   \n",
       "16462373  {'id': 'audacy-dc-backupdr', 'number': '372247...   \n",
       "19051210  {'id': 'arched-hybrid-112221', 'number': '9741...   \n",
       "11000765  {'id': 'audacy-dc-backupdr', 'number': '372247...   \n",
       "459149    {'id': 'wo-wos-reporting-291617', 'number': '1...   \n",
       "19252567  {'id': 'arched-hybrid-112221', 'number': '9741...   \n",
       "15627241  {'id': 'adminql-93f0e', 'number': '53702907559...   \n",
       "12393571  {'id': 'arched-hybrid-112221', 'number': '9741...   \n",
       "13420028  {'id': 'arched-hybrid-112221', 'number': '9741...   \n",
       "\n",
       "                                                     labels  \\\n",
       "15235204                                                 []   \n",
       "21937560                                                 []   \n",
       "13511276                                                 []   \n",
       "15624313  [{'key': 'goog-resource-type', 'value': 'cloud...   \n",
       "1944465                                                  []   \n",
       "10338114                                                 []   \n",
       "2404733                                                  []   \n",
       "6706154                                                  []   \n",
       "20993010                                                 []   \n",
       "23875710                                                 []   \n",
       "10177819                                                 []   \n",
       "11286664                                                 []   \n",
       "2579921                                                  []   \n",
       "5016056   [{'key': 'business-unit', 'value': 'data-team'...   \n",
       "15888281                                                 []   \n",
       "2161524                                                  []   \n",
       "21275248                                                 []   \n",
       "11321847  [{'key': 'goog-resource-type', 'value': 'http_...   \n",
       "9702154   [{'key': 'goog-resource-type', 'value': 'dataf...   \n",
       "11245659  [{'key': 'goog-resource-type', 'value': 'servi...   \n",
       "17758578  [{'key': 'goog-aef-service-minorversion', 'val...   \n",
       "16535725  [{'key': 'serverless-vpc-access', 'value': 're...   \n",
       "16462373                                                 []   \n",
       "19051210                                                 []   \n",
       "11000765                                                 []   \n",
       "459149    [{'key': 'serverless-vpc-access', 'value': 're...   \n",
       "19252567                                                 []   \n",
       "15627241                                                 []   \n",
       "12393571                                                 []   \n",
       "13420028  [{'key': 'http-server', 'value': None}\\n {'key...   \n",
       "\n",
       "                                              system_labels  \\\n",
       "15235204                                                 []   \n",
       "21937560                                                 []   \n",
       "13511276                                                 []   \n",
       "15624313                                                 []   \n",
       "1944465                                                  []   \n",
       "10338114                                                 []   \n",
       "2404733                                                  []   \n",
       "6706154                                                  []   \n",
       "20993010                                                 []   \n",
       "23875710                                                 []   \n",
       "10177819                                                 []   \n",
       "11286664                                                 []   \n",
       "2579921   [{'key': 'compute.googleapis.com/cores', 'valu...   \n",
       "5016056   [{'key': 'compute.googleapis.com/cores', 'valu...   \n",
       "15888281                                                 []   \n",
       "2161524                                                  []   \n",
       "21275248                                                 []   \n",
       "11321847                                                 []   \n",
       "9702154                                                  []   \n",
       "11245659                                                 []   \n",
       "17758578                                                 []   \n",
       "16535725  [{'key': 'compute.googleapis.com/cores', 'valu...   \n",
       "16462373                                                 []   \n",
       "19051210  [{'key': 'compute.googleapis.com/cores', 'valu...   \n",
       "11000765                                                 []   \n",
       "459149    [{'key': 'compute.googleapis.com/cores', 'valu...   \n",
       "19252567                                                 []   \n",
       "15627241                                                 []   \n",
       "12393571  [{'key': 'compute.googleapis.com/cores', 'valu...   \n",
       "13420028                                                 []   \n",
       "\n",
       "                                                   location  ...  \\\n",
       "15235204  {'location': 'europe-central2', 'country': 'PL...  ...   \n",
       "21937560  {'location': 'us-central1', 'country': 'US', '...  ...   \n",
       "13511276  {'location': 'us-central1', 'country': 'US', '...  ...   \n",
       "15624313  {'location': 'us', 'country': 'US', 'region': ...  ...   \n",
       "1944465   {'location': 'us-central1', 'country': 'US', '...  ...   \n",
       "10338114  {'location': 'us-central1', 'country': 'US', '...  ...   \n",
       "2404733   {'location': 'us-central1', 'country': 'US', '...  ...   \n",
       "6706154   {'location': 'us-east4', 'country': 'US', 'reg...  ...   \n",
       "20993010  {'location': 'us-central1', 'country': 'US', '...  ...   \n",
       "23875710  {'location': 'us-central1', 'country': 'US', '...  ...   \n",
       "10177819  {'location': 'us-central1', 'country': 'US', '...  ...   \n",
       "11286664  {'location': 'us-west1', 'country': 'US', 'reg...  ...   \n",
       "2579921   {'location': 'us-central1', 'country': 'US', '...  ...   \n",
       "5016056   {'location': 'us-central1', 'country': 'US', '...  ...   \n",
       "15888281  {'location': 'us-central1', 'country': 'US', '...  ...   \n",
       "2161524   {'location': None, 'country': None, 'region': ...  ...   \n",
       "21275248  {'location': 'us-central1', 'country': 'US', '...  ...   \n",
       "11321847  {'location': 'us', 'country': 'US', 'region': ...  ...   \n",
       "9702154   {'location': 'us', 'country': 'US', 'region': ...  ...   \n",
       "11245659  {'location': 'us', 'country': 'US', 'region': ...  ...   \n",
       "17758578  {'location': 'us-central1', 'country': 'US', '...  ...   \n",
       "16535725  {'location': 'us-east1', 'country': 'US', 'reg...  ...   \n",
       "16462373  {'location': 'us-central1', 'country': 'US', '...  ...   \n",
       "19051210  {'location': 'us-central1', 'country': 'US', '...  ...   \n",
       "11000765  {'location': 'us-central1', 'country': 'US', '...  ...   \n",
       "459149    {'location': 'us-east1', 'country': 'US', 'reg...  ...   \n",
       "19252567  {'location': 'us-central1', 'country': 'US', '...  ...   \n",
       "15627241  {'location': 'us-central1-c', 'country': 'US',...  ...   \n",
       "12393571  {'location': 'us-central1', 'country': 'US', '...  ...   \n",
       "13420028  {'location': 'us-central1', 'country': 'US', '...  ...   \n",
       "\n",
       "            usage_unit usage_amount_in_pricing_units  usage_pricing_unit  \\\n",
       "15235204  byte-seconds                  1.000000e-09      gibibyte month   \n",
       "21937560       seconds                  3.984972e+01                hour   \n",
       "13511276  byte-seconds                  7.708333e-01       gibibyte hour   \n",
       "15624313         bytes                  1.812472e-02            gibibyte   \n",
       "1944465          bytes                  2.407200e-05            gibibyte   \n",
       "10338114       seconds                  2.016132e-03               month   \n",
       "2404733          bytes                  8.445950e-04            gibibyte   \n",
       "6706154          bytes                  4.854299e-03            gibibyte   \n",
       "20993010       seconds                  9.100000e+01                hour   \n",
       "23875710         bytes                  3.725290e-08            gibibyte   \n",
       "10177819         bytes                  8.922000e-06            gibibyte   \n",
       "11286664  byte-seconds                  0.000000e+00       gibibyte hour   \n",
       "2579921        seconds                  4.727778e-01                hour   \n",
       "5016056        seconds                  1.000000e+00                hour   \n",
       "15888281         bytes                  8.544628e-02            gibibyte   \n",
       "2161524            USD                 -1.000000e-06                 USD   \n",
       "21275248  byte-seconds                  2.530470e-01      gibibyte month   \n",
       "11321847         bytes                  1.395040e-04            gibibyte   \n",
       "9702154          bytes                  9.181700e-05            gibibyte   \n",
       "11245659         bytes                  1.252000e-06            gibibyte   \n",
       "17758578         bytes                  5.277200e-05            gibibyte   \n",
       "16535725  byte-seconds                  1.521667e+00       gibibyte hour   \n",
       "16462373  byte-seconds                  1.027778e+00      gibibyte month   \n",
       "19051210       seconds                  3.000000e+00                hour   \n",
       "11000765  byte-seconds                  8.020367e-01      gibibyte month   \n",
       "459149    byte-seconds                  5.261111e-01       gibibyte hour   \n",
       "19252567         bytes                  1.979000e-05            gibibyte   \n",
       "15627241  byte-seconds                  4.582020e-04      gibibyte month   \n",
       "12393571  byte-seconds                  1.666667e-01       gibibyte hour   \n",
       "13420028         bytes                  5.132000e-06            gibibyte   \n",
       "\n",
       "         invoice_month  invoice_year invoice_publisher_type location_location  \\\n",
       "15235204             5          2024                    NaN   europe-central2   \n",
       "21937560             2          2025                 GOOGLE       us-central1   \n",
       "13511276             5          2023                    NaN       us-central1   \n",
       "15624313             5          2024                    NaN                us   \n",
       "1944465              7          2024                    NaN       us-central1   \n",
       "10338114             1          2025                 GOOGLE       us-central1   \n",
       "2404733             11          2023                    NaN       us-central1   \n",
       "6706154              7          2023                    NaN          us-east4   \n",
       "20993010             3          2024                    NaN       us-central1   \n",
       "23875710             2          2023                    NaN               NaN   \n",
       "10177819             1          2025                 GOOGLE       us-central1   \n",
       "11286664            12          2024                 GOOGLE          us-west1   \n",
       "2579921             11          2023                    NaN       us-central1   \n",
       "5016056             10          2024                    NaN       us-central1   \n",
       "15888281             5          2024                    NaN       us-central1   \n",
       "2161524             11          2023                    NaN               NaN   \n",
       "21275248             3          2024                    NaN       us-central1   \n",
       "11321847            12          2024                 GOOGLE                us   \n",
       "9702154              1          2025                 GOOGLE                us   \n",
       "11245659            12          2024                 GOOGLE                us   \n",
       "17758578             8          2024                    NaN       us-central1   \n",
       "16535725             4          2024                    NaN          us-east1   \n",
       "16462373             4          2024                    NaN       us-central1   \n",
       "19051210             9          2024                    NaN       us-central1   \n",
       "11000765             1          2025                 GOOGLE       us-central1   \n",
       "459149               6          2024                    NaN          us-east1   \n",
       "19252567             9          2024                    NaN       us-central1   \n",
       "15627241             5          2024                    NaN     us-central1-c   \n",
       "12393571            12          2024                 GOOGLE       us-central1   \n",
       "13420028             5          2023                    NaN       us-central1   \n",
       "\n",
       "         location_country  location_region  location_zone  \n",
       "15235204               PL  europe-central2            NaN  \n",
       "21937560               US      us-central1            NaN  \n",
       "13511276               US      us-central1            NaN  \n",
       "15624313               US              NaN            NaN  \n",
       "1944465                US      us-central1            NaN  \n",
       "10338114               US      us-central1            NaN  \n",
       "2404733                US      us-central1            NaN  \n",
       "6706154                US         us-east4            NaN  \n",
       "20993010               US      us-central1            NaN  \n",
       "23875710              NaN              NaN            NaN  \n",
       "10177819               US      us-central1            NaN  \n",
       "11286664               US         us-west1            NaN  \n",
       "2579921                US      us-central1            NaN  \n",
       "5016056                US      us-central1            NaN  \n",
       "15888281               US      us-central1            NaN  \n",
       "2161524               NaN              NaN            NaN  \n",
       "21275248               US      us-central1            NaN  \n",
       "11321847               US              NaN            NaN  \n",
       "9702154                US              NaN            NaN  \n",
       "11245659               US              NaN            NaN  \n",
       "17758578               US      us-central1            NaN  \n",
       "16535725               US         us-east1            NaN  \n",
       "16462373               US      us-central1            NaN  \n",
       "19051210               US      us-central1            NaN  \n",
       "11000765               US      us-central1            NaN  \n",
       "459149                 US         us-east1            NaN  \n",
       "19252567               US      us-central1            NaN  \n",
       "15627241               US      us-central1  us-central1-c  \n",
       "12393571               US      us-central1            NaN  \n",
       "13420028               US      us-central1            NaN  \n",
       "\n",
       "[30 rows x 44 columns]"
      ]
     },
     "execution_count": 43,
     "metadata": {},
     "output_type": "execute_result"
    }
   ],
   "source": [
    "import glob\n",
    "\n",
    "# Get a list of all CSV files in the directory\n",
    "csv_files = glob.glob('GCP_Monthly_Cost_For_*.csv')\n",
    "\n",
    "# Create an empty list to store the DataFrames\n",
    "dfs = [] \n",
    "\n",
    "# Loop over each CSV file and read it into a DataFrame\n",
    "for file in csv_files:\n",
    "    print(\"reading File: \" + file)\n",
    "    df = pd.read_csv(file) \n",
    "    dfs.append(df) \n",
    "\n",
    "# Concatenate all the DataFrames into one\n",
    "combined_df = pd.concat(dfs, axis=0, ignore_index=True) \n",
    "'''\n",
    "month_name = ['JAN', 'FEB', 'MAR', 'APR', 'MAY', 'JUN', 'JUL', 'AUG', 'SEP', 'OCT', 'NOV', 'DEC']\n",
    "month_number = [1,2,3,4,5,6,7,8,9,10,11,12]\n",
    "kafka_new ='Apache Kafka® & Apache Flink® on Confluent Cloud™ - Annual Commits'\n",
    "kafka_old ='Apache Kafka® on Confluent Cloud™ - Annual Commits'\n",
    "combined_df['Month No'] = combined_df['Month'].replace(month_name,month_number)\n",
    "combined_df['Service'] = combined_df['Service'].replace('Datadog Pro','Datadog')\n",
    "combined_df['Service'] = combined_df['Service'].replace(kafka_old,kafka_new)\n",
    "'''\n",
    "\n",
    "# Print the combined DataFrame\n",
    "combined_df.sample(30)"
   ]
  },
  {
   "cell_type": "code",
   "execution_count": 44,
   "metadata": {},
   "outputs": [
    {
     "name": "stdout",
     "output_type": "stream",
     "text": [
      "<class 'pandas.core.frame.DataFrame'>\n",
      "RangeIndex: 24585732 entries, 0 to 24585731\n",
      "Data columns (total 44 columns):\n",
      " #   Column                         Dtype  \n",
      "---  ------                         -----  \n",
      " 0   Unnamed: 0                     int64  \n",
      " 1   billing_account_id             object \n",
      " 2   service                        object \n",
      " 3   sku                            object \n",
      " 4   usage_start_time               object \n",
      " 5   usage_end_time                 object \n",
      " 6   project                        object \n",
      " 7   labels                         object \n",
      " 8   system_labels                  object \n",
      " 9   location                       object \n",
      " 10  tags                           object \n",
      " 11  export_time                    object \n",
      " 12  cost                           float64\n",
      " 13  currency                       object \n",
      " 14  currency_conversion_rate       float64\n",
      " 15  usage                          object \n",
      " 16  credits                        object \n",
      " 17  invoice                        object \n",
      " 18  cost_type                      object \n",
      " 19  adjustment_info                object \n",
      " 20  cost_at_list                   float64\n",
      " 21  transaction_type               object \n",
      " 22  seller_name                    object \n",
      " 23  service_id                     object \n",
      " 24  service_description            object \n",
      " 25  sku_id                         object \n",
      " 26  sku_description                object \n",
      " 27  project_id                     object \n",
      " 28  project_number                 float64\n",
      " 29  project_name                   object \n",
      " 30  project_labels                 object \n",
      " 31  project_ancestry_numbers       object \n",
      " 32  project_ancestors              object \n",
      " 33  usage_amount                   float64\n",
      " 34  usage_unit                     object \n",
      " 35  usage_amount_in_pricing_units  float64\n",
      " 36  usage_pricing_unit             object \n",
      " 37  invoice_month                  int64  \n",
      " 38  invoice_year                   int64  \n",
      " 39  invoice_publisher_type         object \n",
      " 40  location_location              object \n",
      " 41  location_country               object \n",
      " 42  location_region                object \n",
      " 43  location_zone                  object \n",
      "dtypes: float64(6), int64(3), object(35)\n",
      "memory usage: 8.1+ GB\n"
     ]
    }
   ],
   "source": [
    "combined_df.info()"
   ]
  },
  {
   "cell_type": "code",
   "execution_count": 45,
   "metadata": {},
   "outputs": [
    {
     "data": {
      "text/html": [
       "<div>\n",
       "<style scoped>\n",
       "    .dataframe tbody tr th:only-of-type {\n",
       "        vertical-align: middle;\n",
       "    }\n",
       "\n",
       "    .dataframe tbody tr th {\n",
       "        vertical-align: top;\n",
       "    }\n",
       "\n",
       "    .dataframe thead th {\n",
       "        text-align: right;\n",
       "    }\n",
       "</style>\n",
       "<table border=\"1\" class=\"dataframe\">\n",
       "  <thead>\n",
       "    <tr style=\"text-align: right;\">\n",
       "      <th></th>\n",
       "      <th></th>\n",
       "      <th>Total_cost_per_Month</th>\n",
       "      <th>Cost_in_Millions</th>\n",
       "    </tr>\n",
       "    <tr>\n",
       "      <th>invoice_year</th>\n",
       "      <th>invoice_month</th>\n",
       "      <th></th>\n",
       "      <th></th>\n",
       "    </tr>\n",
       "  </thead>\n",
       "  <tbody>\n",
       "    <tr>\n",
       "      <th>2023</th>\n",
       "      <th>1</th>\n",
       "      <td>60981.840065</td>\n",
       "      <td>60.981840</td>\n",
       "    </tr>\n",
       "    <tr>\n",
       "      <th>2024</th>\n",
       "      <th>1</th>\n",
       "      <td>62115.759316</td>\n",
       "      <td>62.115759</td>\n",
       "    </tr>\n",
       "    <tr>\n",
       "      <th>2025</th>\n",
       "      <th>1</th>\n",
       "      <td>90466.182902</td>\n",
       "      <td>90.466183</td>\n",
       "    </tr>\n",
       "    <tr>\n",
       "      <th>2024</th>\n",
       "      <th>2</th>\n",
       "      <td>72661.033397</td>\n",
       "      <td>72.661033</td>\n",
       "    </tr>\n",
       "    <tr>\n",
       "      <th>2025</th>\n",
       "      <th>2</th>\n",
       "      <td>16555.924184</td>\n",
       "      <td>16.555924</td>\n",
       "    </tr>\n",
       "    <tr>\n",
       "      <th rowspan=\"2\" valign=\"top\">2023</th>\n",
       "      <th>2</th>\n",
       "      <td>56849.031151</td>\n",
       "      <td>56.849031</td>\n",
       "    </tr>\n",
       "    <tr>\n",
       "      <th>3</th>\n",
       "      <td>62552.711900</td>\n",
       "      <td>62.552712</td>\n",
       "    </tr>\n",
       "    <tr>\n",
       "      <th rowspan=\"2\" valign=\"top\">2024</th>\n",
       "      <th>3</th>\n",
       "      <td>73420.028215</td>\n",
       "      <td>73.420028</td>\n",
       "    </tr>\n",
       "    <tr>\n",
       "      <th>4</th>\n",
       "      <td>73603.634978</td>\n",
       "      <td>73.603635</td>\n",
       "    </tr>\n",
       "    <tr>\n",
       "      <th rowspan=\"2\" valign=\"top\">2023</th>\n",
       "      <th>4</th>\n",
       "      <td>57195.365732</td>\n",
       "      <td>57.195366</td>\n",
       "    </tr>\n",
       "    <tr>\n",
       "      <th>5</th>\n",
       "      <td>41423.185156</td>\n",
       "      <td>41.423185</td>\n",
       "    </tr>\n",
       "    <tr>\n",
       "      <th rowspan=\"2\" valign=\"top\">2024</th>\n",
       "      <th>5</th>\n",
       "      <td>77595.428145</td>\n",
       "      <td>77.595428</td>\n",
       "    </tr>\n",
       "    <tr>\n",
       "      <th>6</th>\n",
       "      <td>72804.470904</td>\n",
       "      <td>72.804471</td>\n",
       "    </tr>\n",
       "    <tr>\n",
       "      <th rowspan=\"2\" valign=\"top\">2023</th>\n",
       "      <th>6</th>\n",
       "      <td>38963.832316</td>\n",
       "      <td>38.963832</td>\n",
       "    </tr>\n",
       "    <tr>\n",
       "      <th>7</th>\n",
       "      <td>53721.722347</td>\n",
       "      <td>53.721722</td>\n",
       "    </tr>\n",
       "    <tr>\n",
       "      <th>2024</th>\n",
       "      <th>7</th>\n",
       "      <td>81037.174544</td>\n",
       "      <td>81.037175</td>\n",
       "    </tr>\n",
       "    <tr>\n",
       "      <th>2023</th>\n",
       "      <th>8</th>\n",
       "      <td>64986.190646</td>\n",
       "      <td>64.986191</td>\n",
       "    </tr>\n",
       "    <tr>\n",
       "      <th rowspan=\"2\" valign=\"top\">2024</th>\n",
       "      <th>8</th>\n",
       "      <td>71951.717317</td>\n",
       "      <td>71.951717</td>\n",
       "    </tr>\n",
       "    <tr>\n",
       "      <th>9</th>\n",
       "      <td>89353.334996</td>\n",
       "      <td>89.353335</td>\n",
       "    </tr>\n",
       "    <tr>\n",
       "      <th rowspan=\"2\" valign=\"top\">2023</th>\n",
       "      <th>9</th>\n",
       "      <td>62599.293673</td>\n",
       "      <td>62.599294</td>\n",
       "    </tr>\n",
       "    <tr>\n",
       "      <th>10</th>\n",
       "      <td>461994.640685</td>\n",
       "      <td>461.994641</td>\n",
       "    </tr>\n",
       "    <tr>\n",
       "      <th rowspan=\"2\" valign=\"top\">2024</th>\n",
       "      <th>10</th>\n",
       "      <td>524657.611693</td>\n",
       "      <td>524.657612</td>\n",
       "    </tr>\n",
       "    <tr>\n",
       "      <th>11</th>\n",
       "      <td>88402.945195</td>\n",
       "      <td>88.402945</td>\n",
       "    </tr>\n",
       "    <tr>\n",
       "      <th rowspan=\"2\" valign=\"top\">2023</th>\n",
       "      <th>11</th>\n",
       "      <td>49851.635336</td>\n",
       "      <td>49.851635</td>\n",
       "    </tr>\n",
       "    <tr>\n",
       "      <th>12</th>\n",
       "      <td>53290.551769</td>\n",
       "      <td>53.290552</td>\n",
       "    </tr>\n",
       "    <tr>\n",
       "      <th>2024</th>\n",
       "      <th>12</th>\n",
       "      <td>83374.807334</td>\n",
       "      <td>83.374807</td>\n",
       "    </tr>\n",
       "  </tbody>\n",
       "</table>\n",
       "</div>"
      ],
      "text/plain": [
       "                            Total_cost_per_Month  Cost_in_Millions\n",
       "invoice_year invoice_month                                        \n",
       "2023         1                      60981.840065         60.981840\n",
       "2024         1                      62115.759316         62.115759\n",
       "2025         1                      90466.182902         90.466183\n",
       "2024         2                      72661.033397         72.661033\n",
       "2025         2                      16555.924184         16.555924\n",
       "2023         2                      56849.031151         56.849031\n",
       "             3                      62552.711900         62.552712\n",
       "2024         3                      73420.028215         73.420028\n",
       "             4                      73603.634978         73.603635\n",
       "2023         4                      57195.365732         57.195366\n",
       "             5                      41423.185156         41.423185\n",
       "2024         5                      77595.428145         77.595428\n",
       "             6                      72804.470904         72.804471\n",
       "2023         6                      38963.832316         38.963832\n",
       "             7                      53721.722347         53.721722\n",
       "2024         7                      81037.174544         81.037175\n",
       "2023         8                      64986.190646         64.986191\n",
       "2024         8                      71951.717317         71.951717\n",
       "             9                      89353.334996         89.353335\n",
       "2023         9                      62599.293673         62.599294\n",
       "             10                    461994.640685        461.994641\n",
       "2024         10                    524657.611693        524.657612\n",
       "             11                     88402.945195         88.402945\n",
       "2023         11                     49851.635336         49.851635\n",
       "             12                     53290.551769         53.290552\n",
       "2024         12                     83374.807334         83.374807"
      ]
     },
     "execution_count": 45,
     "metadata": {},
     "output_type": "execute_result"
    }
   ],
   "source": [
    "#otal_per_month_df = combined_df.groupby(['Year','Month','Month No']).agg({'Cost':'sum'}).sort_values(by='Month')\n",
    "total_per_month_df = combined_df.groupby(['invoice_year','invoice_month']).agg(Total_cost_per_Month=('cost','sum')).sort_values(by='invoice_month')\n",
    "total_per_month_df['Cost_in_Millions'] = total_per_month_df['Total_cost_per_Month']/1000\n",
    "total_per_month_df "
   ]
  },
  {
   "cell_type": "code",
   "execution_count": 46,
   "metadata": {},
   "outputs": [
    {
     "data": {
      "image/png": "[encoded data removed]",
      "text/plain": [
       "<Figure size 1500x1000 with 1 Axes>"
      ]
     },
     "metadata": {},
     "output_type": "display_data"
    }
   ],
   "source": [
    "# Initialize the matplotlib figure\n",
    "#sns.color_palette(\"viridis\", as_cmap=True)\n",
    "sns.color_palette(\"bright\")\n",
    "fig, ax = plt.subplots(figsize=(15, 10))\n",
    "\n",
    "sns.barplot(x=\"invoice_month\", y=\"Total_cost_per_Month\", data=total_per_month_df,\n",
    "            hue='invoice_year', legend=True, color='green',palette='bright')\n",
    "\n",
    "\n",
    "# Add a legend and informative axis label\n",
    "#ax.legend(ncol=2, loc=\"lower right\", frameon=True)\n",
    "ax.set_xlabel(\"Months\")\n",
    "ax.set_ylabel(\"Monthly Cost\")\n",
    "ax.set_title(\"GCP Monthly Cost \\n\")\n",
    "plt.gcf().axes[0].yaxis.get_major_formatter().set_scientific(False)\n",
    "ax.yaxis.set_major_formatter(plt.FuncFormatter(lambda x, loc: \"${:,.2f}\".format(int(x))))\n",
    "plt.savefig(\"AWS Monthly Cost\")\n",
    "\n",
    "\n",
    "#sns.despine(left=True, bottom=True)"
   ]
  },
  {
   "cell_type": "code",
   "execution_count": 435,
   "metadata": {},
   "outputs": [],
   "source": [
    "# df = pd.read_csv('GCP_Monthly_Cost_For_10_2024.csv') "
   ]
  },
  {
   "cell_type": "code",
   "execution_count": 436,
   "metadata": {},
   "outputs": [],
   "source": [
    "# df['cost'].max()"
   ]
  },
  {
   "cell_type": "code",
   "execution_count": 437,
   "metadata": {},
   "outputs": [],
   "source": [
    "# df[df['cost'] == 408274.31]['service_description']"
   ]
  },
  {
   "cell_type": "code",
   "execution_count": 438,
   "metadata": {},
   "outputs": [],
   "source": [
    "# df.iloc[838044,:]"
   ]
  },
  {
   "cell_type": "code",
   "execution_count": 54,
   "metadata": {},
   "outputs": [],
   "source": [
    "#df_c = combined_df.copy()"
   ]
  },
  {
   "cell_type": "code",
   "execution_count": 47,
   "metadata": {},
   "outputs": [],
   "source": [
    "total_per_project_df = combined_df.groupby(['invoice_year','project_id','project_name']).agg(Total=('cost','sum'))"
   ]
  },
  {
   "cell_type": "code",
   "execution_count": 37,
   "metadata": {},
   "outputs": [],
   "source": [
    "#total_per_project_df = df.groupby(['invoice_year','project_name']).agg(Total=('cost','sum'))"
   ]
  },
  {
   "cell_type": "code",
   "execution_count": 48,
   "metadata": {},
   "outputs": [],
   "source": [
    "total_per_service_df = combined_df.groupby(['invoice_year','service_description']).agg(Total=('cost','sum'))"
   ]
  },
  {
   "cell_type": "code",
   "execution_count": 49,
   "metadata": {},
   "outputs": [],
   "source": [
    "services_df = total_per_service_df[total_per_service_df['Total'] > 100]"
   ]
  },
  {
   "cell_type": "code",
   "execution_count": 50,
   "metadata": {},
   "outputs": [],
   "source": [
    "projects_df = total_per_project_df[total_per_project_df['Total'] > 100]"
   ]
  },
  {
   "cell_type": "code",
   "execution_count": 51,
   "metadata": {},
   "outputs": [
    {
     "data": {
      "text/html": [
       "<div>\n",
       "<style scoped>\n",
       "    .dataframe tbody tr th:only-of-type {\n",
       "        vertical-align: middle;\n",
       "    }\n",
       "\n",
       "    .dataframe tbody tr th {\n",
       "        vertical-align: top;\n",
       "    }\n",
       "\n",
       "    .dataframe thead th {\n",
       "        text-align: right;\n",
       "    }\n",
       "</style>\n",
       "<table border=\"1\" class=\"dataframe\">\n",
       "  <thead>\n",
       "    <tr style=\"text-align: right;\">\n",
       "      <th></th>\n",
       "      <th></th>\n",
       "      <th></th>\n",
       "      <th>Total</th>\n",
       "    </tr>\n",
       "    <tr>\n",
       "      <th>invoice_year</th>\n",
       "      <th>project_id</th>\n",
       "      <th>project_name</th>\n",
       "      <th></th>\n",
       "    </tr>\n",
       "  </thead>\n",
       "  <tbody>\n",
       "    <tr>\n",
       "      <th rowspan=\"5\" valign=\"top\">2023</th>\n",
       "      <th>arched-hybrid-112221</th>\n",
       "      <th>BetQL Main</th>\n",
       "      <td>136284.454650</td>\n",
       "    </tr>\n",
       "    <tr>\n",
       "      <th>aud-dc-fortinet-prod</th>\n",
       "      <th>aud-dc-fortinet-prod</th>\n",
       "      <td>646.960936</td>\n",
       "    </tr>\n",
       "    <tr>\n",
       "      <th>audacy-backupdr</th>\n",
       "      <th>entit-backupdr-prd-0122</th>\n",
       "      <td>87046.791746</td>\n",
       "    </tr>\n",
       "    <tr>\n",
       "      <th>audacy-dc-backupdr</th>\n",
       "      <th>audacy-dc-backupdr</th>\n",
       "      <td>55350.435600</td>\n",
       "    </tr>\n",
       "    <tr>\n",
       "      <th>biqquery-poc-0123</th>\n",
       "      <th>biqquery-poc-0123</th>\n",
       "      <td>21785.498137</td>\n",
       "    </tr>\n",
       "    <tr>\n",
       "      <th>...</th>\n",
       "      <th>...</th>\n",
       "      <th>...</th>\n",
       "      <td>...</td>\n",
       "    </tr>\n",
       "    <tr>\n",
       "      <th rowspan=\"5\" valign=\"top\">2025</th>\n",
       "      <th>secops-terraform-dev</th>\n",
       "      <th>secops-terraform-dev</th>\n",
       "      <td>442.240493</td>\n",
       "    </tr>\n",
       "    <tr>\n",
       "      <th>sra-xdr-sentinel-330418</th>\n",
       "      <th>SRA-XDR-Sentinel</th>\n",
       "      <td>342.783011</td>\n",
       "    </tr>\n",
       "    <tr>\n",
       "      <th>uap-ga360-data</th>\n",
       "      <th>UAP GA360 Data</th>\n",
       "      <td>416.414936</td>\n",
       "    </tr>\n",
       "    <tr>\n",
       "      <th>wo-wos-reporting-291617</th>\n",
       "      <th>wo-wos-reporting-dev</th>\n",
       "      <td>1560.651146</td>\n",
       "    </tr>\n",
       "    <tr>\n",
       "      <th>wo-wos-reporting-prod</th>\n",
       "      <th>wo-wos-reporting-prod</th>\n",
       "      <td>46044.958564</td>\n",
       "    </tr>\n",
       "  </tbody>\n",
       "</table>\n",
       "<p>61 rows × 1 columns</p>\n",
       "</div>"
      ],
      "text/plain": [
       "                                                                      Total\n",
       "invoice_year project_id              project_name                          \n",
       "2023         arched-hybrid-112221    BetQL Main               136284.454650\n",
       "             aud-dc-fortinet-prod    aud-dc-fortinet-prod        646.960936\n",
       "             audacy-backupdr         entit-backupdr-prd-0122   87046.791746\n",
       "             audacy-dc-backupdr      audacy-dc-backupdr        55350.435600\n",
       "             biqquery-poc-0123       biqquery-poc-0123         21785.498137\n",
       "...                                                                     ...\n",
       "2025         secops-terraform-dev    secops-terraform-dev        442.240493\n",
       "             sra-xdr-sentinel-330418 SRA-XDR-Sentinel            342.783011\n",
       "             uap-ga360-data          UAP GA360 Data              416.414936\n",
       "             wo-wos-reporting-291617 wo-wos-reporting-dev       1560.651146\n",
       "             wo-wos-reporting-prod   wo-wos-reporting-prod     46044.958564\n",
       "\n",
       "[61 rows x 1 columns]"
      ]
     },
     "execution_count": 51,
     "metadata": {},
     "output_type": "execute_result"
    }
   ],
   "source": [
    "projects_df"
   ]
  },
  {
   "cell_type": "code",
   "execution_count": 52,
   "metadata": {},
   "outputs": [
    {
     "data": {
      "text/html": [
       "<div>\n",
       "<style scoped>\n",
       "    .dataframe tbody tr th:only-of-type {\n",
       "        vertical-align: middle;\n",
       "    }\n",
       "\n",
       "    .dataframe tbody tr th {\n",
       "        vertical-align: top;\n",
       "    }\n",
       "\n",
       "    .dataframe thead th {\n",
       "        text-align: right;\n",
       "    }\n",
       "</style>\n",
       "<table border=\"1\" class=\"dataframe\">\n",
       "  <thead>\n",
       "    <tr style=\"text-align: right;\">\n",
       "      <th></th>\n",
       "      <th></th>\n",
       "      <th>Total</th>\n",
       "    </tr>\n",
       "    <tr>\n",
       "      <th>invoice_year</th>\n",
       "      <th>service_description</th>\n",
       "      <th></th>\n",
       "    </tr>\n",
       "  </thead>\n",
       "  <tbody>\n",
       "    <tr>\n",
       "      <th rowspan=\"5\" valign=\"top\">2023</th>\n",
       "      <th>Anthos / GDC-V</th>\n",
       "      <td>2146.928323</td>\n",
       "    </tr>\n",
       "    <tr>\n",
       "      <th>App Engine</th>\n",
       "      <td>36362.840409</td>\n",
       "    </tr>\n",
       "    <tr>\n",
       "      <th>BigQuery</th>\n",
       "      <td>298211.431812</td>\n",
       "    </tr>\n",
       "    <tr>\n",
       "      <th>BigQuery Reservation API</th>\n",
       "      <td>221950.034917</td>\n",
       "    </tr>\n",
       "    <tr>\n",
       "      <th>BigQuery Storage API</th>\n",
       "      <td>816.060396</td>\n",
       "    </tr>\n",
       "    <tr>\n",
       "      <th>...</th>\n",
       "      <th>...</th>\n",
       "      <td>...</td>\n",
       "    </tr>\n",
       "    <tr>\n",
       "      <th rowspan=\"5\" valign=\"top\">2025</th>\n",
       "      <th>Invoice</th>\n",
       "      <td>2074.834026</td>\n",
       "    </tr>\n",
       "    <tr>\n",
       "      <th>Networking</th>\n",
       "      <td>4763.922605</td>\n",
       "    </tr>\n",
       "    <tr>\n",
       "      <th>Notebooks</th>\n",
       "      <td>4645.178259</td>\n",
       "    </tr>\n",
       "    <tr>\n",
       "      <th>Support</th>\n",
       "      <td>6787.007664</td>\n",
       "    </tr>\n",
       "    <tr>\n",
       "      <th>Vertex AI</th>\n",
       "      <td>1016.096723</td>\n",
       "    </tr>\n",
       "  </tbody>\n",
       "</table>\n",
       "<p>69 rows × 1 columns</p>\n",
       "</div>"
      ],
      "text/plain": [
       "                                               Total\n",
       "invoice_year service_description                    \n",
       "2023         Anthos / GDC-V              2146.928323\n",
       "             App Engine                 36362.840409\n",
       "             BigQuery                  298211.431812\n",
       "             BigQuery Reservation API  221950.034917\n",
       "             BigQuery Storage API         816.060396\n",
       "...                                              ...\n",
       "2025         Invoice                     2074.834026\n",
       "             Networking                  4763.922605\n",
       "             Notebooks                   4645.178259\n",
       "             Support                     6787.007664\n",
       "             Vertex AI                   1016.096723\n",
       "\n",
       "[69 rows x 1 columns]"
      ]
     },
     "execution_count": 52,
     "metadata": {},
     "output_type": "execute_result"
    }
   ],
   "source": [
    "services_df"
   ]
  },
  {
   "cell_type": "code",
   "execution_count": 53,
   "metadata": {},
   "outputs": [
    {
     "name": "stderr",
     "output_type": "stream",
     "text": [
      "/var/folders/bc/rbbb9nc96zd3bj2l2mq3klq00000gp/T/ipykernel_11638/928247486.py:15: UserWarning: set_ticklabels() should only be used with a fixed number of ticks, i.e. after set_ticks() or using a FixedLocator.\n",
      "  ax.set_xticklabels(ax.get_xticklabels(), rotation=90, ha='center')\n"
     ]
    },
    {
     "data": {
      "image/png": "[encoded data removed]",
      "text/plain": [
       "<Figure size 1500x1000 with 1 Axes>"
      ]
     },
     "metadata": {},
     "output_type": "display_data"
    }
   ],
   "source": [
    "# Initialize the matplotlib figure\n",
    "fig, ax = plt.subplots(figsize=(15, 10))\n",
    "\n",
    "sns.barplot(x=\"project_name\", y=\"Total\", data=projects_df,\n",
    "            hue='invoice_year', legend=True, color='green',palette='bright')\n",
    "\n",
    "\n",
    "# Add a legend and informative axis label\n",
    "#ax.legend(ncol=2, loc=\"lower right\", frameon=True)\n",
    "ax.set_xlabel(\"Project Name\")\n",
    "ax.set_ylabel(\"Cost\")\n",
    "ax.set_title(\"GCP Total Accumulated Cost for all Projects over $100.00 \\n\")\n",
    "#ax.set_title(\"AWS Total Cost for Jun, 2024 by Services over $100,000 \\n\")\n",
    "#plt.xticks(rotation=90) \n",
    "ax.set_xticklabels(ax.get_xticklabels(), rotation=90, ha='center')\n",
    "#ax.set_xticklabels(labels=services_df['Service'],rotation=45)\n",
    "plt.gcf().axes[0].yaxis.get_major_formatter().set_scientific(False)\n",
    "ax.yaxis.set_major_formatter(plt.FuncFormatter(lambda x, loc: \"${:,.2f}\".format(int(x))))\n",
    "plt.savefig(\"GCP Yearly Cost by Project Name\")"
   ]
  },
  {
   "cell_type": "code",
   "execution_count": 54,
   "metadata": {},
   "outputs": [
    {
     "name": "stderr",
     "output_type": "stream",
     "text": [
      "/var/folders/bc/rbbb9nc96zd3bj2l2mq3klq00000gp/T/ipykernel_11638/2937903153.py:15: UserWarning: set_ticklabels() should only be used with a fixed number of ticks, i.e. after set_ticks() or using a FixedLocator.\n",
      "  ax.set_xticklabels(ax.get_xticklabels(), rotation=90, ha='center')\n"
     ]
    },
    {
     "data": {
      "image/png": "[encoded data removed]",
      "text/plain": [
       "<Figure size 1500x1000 with 1 Axes>"
      ]
     },
     "metadata": {},
     "output_type": "display_data"
    }
   ],
   "source": [
    "# Initialize the matplotlib figure\n",
    "fig, ax = plt.subplots(figsize=(15, 10))\n",
    "\n",
    "sns.barplot(x=\"service_description\", y=\"Total\", data=services_df,\n",
    "            hue='invoice_year', legend=True, color='green',palette='bright')\n",
    "\n",
    "\n",
    "# Add a legend and informative axis label\n",
    "#ax.legend(ncol=2, loc=\"lower right\", frameon=True)\n",
    "ax.set_xlabel(\"Service Name\")\n",
    "ax.set_ylabel(\"Cost\")\n",
    "ax.set_title(\"GCP Total Accumulated Cost for all Services over $100.00 \\n\")\n",
    "#ax.set_title(\"AWS Total Cost for Jun, 2024 by Services over $100,000 \\n\")\n",
    "#plt.xticks(rotation=90) \n",
    "ax.set_xticklabels(ax.get_xticklabels(), rotation=90, ha='center')\n",
    "#ax.set_xticklabels(labels=services_df['Service'],rotation=45)\n",
    "plt.gcf().axes[0].yaxis.get_major_formatter().set_scientific(False)\n",
    "ax.yaxis.set_major_formatter(plt.FuncFormatter(lambda x, loc: \"${:,.2f}\".format(int(x))))\n",
    "plt.savefig(\"GCP Yearly Cost by Service ID\")"
   ]
  },
  {
   "cell_type": "code",
   "execution_count": 55,
   "metadata": {},
   "outputs": [
    {
     "data": {
      "text/plain": [
       "array(['Cloud Pub/Sub', 'Compute Engine', 'Cloud Storage', 'Cloud SQL',\n",
       "       'Cloud Logging', 'BigQuery Storage API', 'Vertex AI',\n",
       "       'Deep Learning VM', 'Cloud Functions', 'Notebooks',\n",
       "       'BigQuery Reservation API', 'BigQuery', 'Support',\n",
       "       'Artifact Registry', 'Networking', 'Cloud Scheduler', 'Invoice',\n",
       "       'Cloud Build', 'Cloud Run Functions', 'Cloud Composer',\n",
       "       'Stackdriver Monitoring', 'Cloud Monitoring', 'Dataplex',\n",
       "       'Secret Manager'], dtype=object)"
      ]
     },
     "execution_count": 55,
     "metadata": {},
     "output_type": "execute_result"
    }
   ],
   "source": [
    "\n",
    "#df[df[['project_name'] == 'wo-wos-reporting-prod'  ['invoice_year'] == 2025]]\n",
    "\n",
    "w = combined_df.query('project_name == \"wo-wos-reporting-prod\" and invoice_year <= 2025')\n",
    "w['service_description'].unique()\n",
    "\n"
   ]
  },
  {
   "cell_type": "code",
   "execution_count": 56,
   "metadata": {},
   "outputs": [],
   "source": [
    "total_per_service_df = w.groupby(['invoice_year','service_description']).agg(Total=('cost','sum'))"
   ]
  },
  {
   "cell_type": "code",
   "execution_count": 57,
   "metadata": {},
   "outputs": [],
   "source": [
    "services_df = total_per_service_df[total_per_service_df['Total'] > 100]"
   ]
  },
  {
   "cell_type": "code",
   "execution_count": 58,
   "metadata": {},
   "outputs": [
    {
     "data": {
      "text/html": [
       "<div>\n",
       "<style scoped>\n",
       "    .dataframe tbody tr th:only-of-type {\n",
       "        vertical-align: middle;\n",
       "    }\n",
       "\n",
       "    .dataframe tbody tr th {\n",
       "        vertical-align: top;\n",
       "    }\n",
       "\n",
       "    .dataframe thead th {\n",
       "        text-align: right;\n",
       "    }\n",
       "</style>\n",
       "<table border=\"1\" class=\"dataframe\">\n",
       "  <thead>\n",
       "    <tr style=\"text-align: right;\">\n",
       "      <th></th>\n",
       "      <th></th>\n",
       "      <th>Total</th>\n",
       "    </tr>\n",
       "    <tr>\n",
       "      <th>invoice_year</th>\n",
       "      <th>service_description</th>\n",
       "      <th></th>\n",
       "    </tr>\n",
       "  </thead>\n",
       "  <tbody>\n",
       "    <tr>\n",
       "      <th rowspan=\"21\" valign=\"top\">2023</th>\n",
       "      <th>Artifact Registry</th>\n",
       "      <td>1.204415</td>\n",
       "    </tr>\n",
       "    <tr>\n",
       "      <th>BigQuery</th>\n",
       "      <td>281382.337047</td>\n",
       "    </tr>\n",
       "    <tr>\n",
       "      <th>BigQuery Reservation API</th>\n",
       "      <td>221950.034917</td>\n",
       "    </tr>\n",
       "    <tr>\n",
       "      <th>BigQuery Storage API</th>\n",
       "      <td>0.000000</td>\n",
       "    </tr>\n",
       "    <tr>\n",
       "      <th>Cloud Build</th>\n",
       "      <td>0.000000</td>\n",
       "    </tr>\n",
       "    <tr>\n",
       "      <th>Cloud Composer</th>\n",
       "      <td>2647.991224</td>\n",
       "    </tr>\n",
       "    <tr>\n",
       "      <th>Cloud Functions</th>\n",
       "      <td>13373.371003</td>\n",
       "    </tr>\n",
       "    <tr>\n",
       "      <th>Cloud Logging</th>\n",
       "      <td>98.349596</td>\n",
       "    </tr>\n",
       "    <tr>\n",
       "      <th>Cloud Monitoring</th>\n",
       "      <td>0.000000</td>\n",
       "    </tr>\n",
       "    <tr>\n",
       "      <th>Cloud Pub/Sub</th>\n",
       "      <td>0.000015</td>\n",
       "    </tr>\n",
       "    <tr>\n",
       "      <th>Cloud SQL</th>\n",
       "      <td>8796.541757</td>\n",
       "    </tr>\n",
       "    <tr>\n",
       "      <th>Cloud Scheduler</th>\n",
       "      <td>1.315605</td>\n",
       "    </tr>\n",
       "    <tr>\n",
       "      <th>Cloud Storage</th>\n",
       "      <td>5313.406042</td>\n",
       "    </tr>\n",
       "    <tr>\n",
       "      <th>Compute Engine</th>\n",
       "      <td>3266.555373</td>\n",
       "    </tr>\n",
       "    <tr>\n",
       "      <th>Deep Learning VM</th>\n",
       "      <td>0.000000</td>\n",
       "    </tr>\n",
       "    <tr>\n",
       "      <th>Invoice</th>\n",
       "      <td>886.141376</td>\n",
       "    </tr>\n",
       "    <tr>\n",
       "      <th>Networking</th>\n",
       "      <td>92.851496</td>\n",
       "    </tr>\n",
       "    <tr>\n",
       "      <th>Notebooks</th>\n",
       "      <td>641.571384</td>\n",
       "    </tr>\n",
       "    <tr>\n",
       "      <th>Stackdriver Monitoring</th>\n",
       "      <td>0.000000</td>\n",
       "    </tr>\n",
       "    <tr>\n",
       "      <th>Support</th>\n",
       "      <td>4355.225076</td>\n",
       "    </tr>\n",
       "    <tr>\n",
       "      <th>Vertex AI</th>\n",
       "      <td>5.026404</td>\n",
       "    </tr>\n",
       "    <tr>\n",
       "      <th rowspan=\"20\" valign=\"top\">2024</th>\n",
       "      <th>Artifact Registry</th>\n",
       "      <td>1.562854</td>\n",
       "    </tr>\n",
       "    <tr>\n",
       "      <th>BigQuery</th>\n",
       "      <td>34230.221391</td>\n",
       "    </tr>\n",
       "    <tr>\n",
       "      <th>BigQuery Reservation API</th>\n",
       "      <td>246054.293406</td>\n",
       "    </tr>\n",
       "    <tr>\n",
       "      <th>BigQuery Storage API</th>\n",
       "      <td>0.000000</td>\n",
       "    </tr>\n",
       "    <tr>\n",
       "      <th>Cloud Build</th>\n",
       "      <td>0.000000</td>\n",
       "    </tr>\n",
       "    <tr>\n",
       "      <th>Cloud Functions</th>\n",
       "      <td>64215.955266</td>\n",
       "    </tr>\n",
       "    <tr>\n",
       "      <th>Cloud Logging</th>\n",
       "      <td>123.114059</td>\n",
       "    </tr>\n",
       "    <tr>\n",
       "      <th>Cloud Pub/Sub</th>\n",
       "      <td>0.333774</td>\n",
       "    </tr>\n",
       "    <tr>\n",
       "      <th>Cloud Run Functions</th>\n",
       "      <td>37931.957526</td>\n",
       "    </tr>\n",
       "    <tr>\n",
       "      <th>Cloud SQL</th>\n",
       "      <td>9011.517361</td>\n",
       "    </tr>\n",
       "    <tr>\n",
       "      <th>Cloud Scheduler</th>\n",
       "      <td>2.145133</td>\n",
       "    </tr>\n",
       "    <tr>\n",
       "      <th>Cloud Storage</th>\n",
       "      <td>8659.716950</td>\n",
       "    </tr>\n",
       "    <tr>\n",
       "      <th>Compute Engine</th>\n",
       "      <td>507.612893</td>\n",
       "    </tr>\n",
       "    <tr>\n",
       "      <th>Dataplex</th>\n",
       "      <td>-0.000062</td>\n",
       "    </tr>\n",
       "    <tr>\n",
       "      <th>Deep Learning VM</th>\n",
       "      <td>0.000000</td>\n",
       "    </tr>\n",
       "    <tr>\n",
       "      <th>Invoice</th>\n",
       "      <td>1149.822152</td>\n",
       "    </tr>\n",
       "    <tr>\n",
       "      <th>Networking</th>\n",
       "      <td>42.286856</td>\n",
       "    </tr>\n",
       "    <tr>\n",
       "      <th>Notebooks</th>\n",
       "      <td>5324.437789</td>\n",
       "    </tr>\n",
       "    <tr>\n",
       "      <th>Support</th>\n",
       "      <td>11356.128447</td>\n",
       "    </tr>\n",
       "    <tr>\n",
       "      <th>Vertex AI</th>\n",
       "      <td>776.638580</td>\n",
       "    </tr>\n",
       "    <tr>\n",
       "      <th rowspan=\"18\" valign=\"top\">2025</th>\n",
       "      <th>Artifact Registry</th>\n",
       "      <td>0.287498</td>\n",
       "    </tr>\n",
       "    <tr>\n",
       "      <th>BigQuery</th>\n",
       "      <td>4693.052624</td>\n",
       "    </tr>\n",
       "    <tr>\n",
       "      <th>BigQuery Reservation API</th>\n",
       "      <td>23784.351386</td>\n",
       "    </tr>\n",
       "    <tr>\n",
       "      <th>BigQuery Storage API</th>\n",
       "      <td>0.000000</td>\n",
       "    </tr>\n",
       "    <tr>\n",
       "      <th>Cloud Build</th>\n",
       "      <td>0.000000</td>\n",
       "    </tr>\n",
       "    <tr>\n",
       "      <th>Cloud Logging</th>\n",
       "      <td>16.449058</td>\n",
       "    </tr>\n",
       "    <tr>\n",
       "      <th>Cloud Pub/Sub</th>\n",
       "      <td>0.007199</td>\n",
       "    </tr>\n",
       "    <tr>\n",
       "      <th>Cloud Run Functions</th>\n",
       "      <td>12864.294105</td>\n",
       "    </tr>\n",
       "    <tr>\n",
       "      <th>Cloud SQL</th>\n",
       "      <td>940.500858</td>\n",
       "    </tr>\n",
       "    <tr>\n",
       "      <th>Cloud Scheduler</th>\n",
       "      <td>0.190944</td>\n",
       "    </tr>\n",
       "    <tr>\n",
       "      <th>Cloud Storage</th>\n",
       "      <td>1841.097285</td>\n",
       "    </tr>\n",
       "    <tr>\n",
       "      <th>Compute Engine</th>\n",
       "      <td>51.518748</td>\n",
       "    </tr>\n",
       "    <tr>\n",
       "      <th>Deep Learning VM</th>\n",
       "      <td>0.000000</td>\n",
       "    </tr>\n",
       "    <tr>\n",
       "      <th>Invoice</th>\n",
       "      <td>167.429267</td>\n",
       "    </tr>\n",
       "    <tr>\n",
       "      <th>Networking</th>\n",
       "      <td>4.941511</td>\n",
       "    </tr>\n",
       "    <tr>\n",
       "      <th>Notebooks</th>\n",
       "      <td>1584.912056</td>\n",
       "    </tr>\n",
       "    <tr>\n",
       "      <th>Secret Manager</th>\n",
       "      <td>0.003610</td>\n",
       "    </tr>\n",
       "    <tr>\n",
       "      <th>Vertex AI</th>\n",
       "      <td>95.922415</td>\n",
       "    </tr>\n",
       "  </tbody>\n",
       "</table>\n",
       "</div>"
      ],
      "text/plain": [
       "                                               Total\n",
       "invoice_year service_description                    \n",
       "2023         Artifact Registry              1.204415\n",
       "             BigQuery                  281382.337047\n",
       "             BigQuery Reservation API  221950.034917\n",
       "             BigQuery Storage API           0.000000\n",
       "             Cloud Build                    0.000000\n",
       "             Cloud Composer              2647.991224\n",
       "             Cloud Functions            13373.371003\n",
       "             Cloud Logging                 98.349596\n",
       "             Cloud Monitoring               0.000000\n",
       "             Cloud Pub/Sub                  0.000015\n",
       "             Cloud SQL                   8796.541757\n",
       "             Cloud Scheduler                1.315605\n",
       "             Cloud Storage               5313.406042\n",
       "             Compute Engine              3266.555373\n",
       "             Deep Learning VM               0.000000\n",
       "             Invoice                      886.141376\n",
       "             Networking                    92.851496\n",
       "             Notebooks                    641.571384\n",
       "             Stackdriver Monitoring         0.000000\n",
       "             Support                     4355.225076\n",
       "             Vertex AI                      5.026404\n",
       "2024         Artifact Registry              1.562854\n",
       "             BigQuery                   34230.221391\n",
       "             BigQuery Reservation API  246054.293406\n",
       "             BigQuery Storage API           0.000000\n",
       "             Cloud Build                    0.000000\n",
       "             Cloud Functions            64215.955266\n",
       "             Cloud Logging                123.114059\n",
       "             Cloud Pub/Sub                  0.333774\n",
       "             Cloud Run Functions        37931.957526\n",
       "             Cloud SQL                   9011.517361\n",
       "             Cloud Scheduler                2.145133\n",
       "             Cloud Storage               8659.716950\n",
       "             Compute Engine               507.612893\n",
       "             Dataplex                      -0.000062\n",
       "             Deep Learning VM               0.000000\n",
       "             Invoice                     1149.822152\n",
       "             Networking                    42.286856\n",
       "             Notebooks                   5324.437789\n",
       "             Support                    11356.128447\n",
       "             Vertex AI                    776.638580\n",
       "2025         Artifact Registry              0.287498\n",
       "             BigQuery                    4693.052624\n",
       "             BigQuery Reservation API   23784.351386\n",
       "             BigQuery Storage API           0.000000\n",
       "             Cloud Build                    0.000000\n",
       "             Cloud Logging                 16.449058\n",
       "             Cloud Pub/Sub                  0.007199\n",
       "             Cloud Run Functions        12864.294105\n",
       "             Cloud SQL                    940.500858\n",
       "             Cloud Scheduler                0.190944\n",
       "             Cloud Storage               1841.097285\n",
       "             Compute Engine                51.518748\n",
       "             Deep Learning VM               0.000000\n",
       "             Invoice                      167.429267\n",
       "             Networking                     4.941511\n",
       "             Notebooks                   1584.912056\n",
       "             Secret Manager                 0.003610\n",
       "             Vertex AI                     95.922415"
      ]
     },
     "execution_count": 58,
     "metadata": {},
     "output_type": "execute_result"
    }
   ],
   "source": [
    "total_per_service_df"
   ]
  },
  {
   "cell_type": "code",
   "execution_count": 59,
   "metadata": {},
   "outputs": [
    {
     "name": "stderr",
     "output_type": "stream",
     "text": [
      "/var/folders/bc/rbbb9nc96zd3bj2l2mq3klq00000gp/T/ipykernel_11638/2595854041.py:15: UserWarning: set_ticklabels() should only be used with a fixed number of ticks, i.e. after set_ticks() or using a FixedLocator.\n",
      "  ax.set_xticklabels(ax.get_xticklabels(), rotation=90, ha='center')\n"
     ]
    },
    {
     "data": {
      "image/png": "[encoded data removed]",
      "text/plain": [
       "<Figure size 1500x1000 with 1 Axes>"
      ]
     },
     "metadata": {},
     "output_type": "display_data"
    }
   ],
   "source": [
    "# Initialize the matplotlib figure\n",
    "fig, ax = plt.subplots(figsize=(15, 10))\n",
    "\n",
    "sns.barplot(x=\"service_description\", y=\"Total\", data=services_df,\n",
    "            hue='invoice_year', legend=True, color='green',palette='bright')\n",
    "\n",
    "\n",
    "# Add a legend and informative axis label\n",
    "#ax.legend(ncol=2, loc=\"lower right\", frameon=True)\n",
    "ax.set_xlabel(\"Service Name\")\n",
    "ax.set_ylabel(\"Cost\")\n",
    "ax.set_title(\"GCP Total Accumulated Cost for all Services over $100.00 used by wo-wos-reporting-prod\\n\")\n",
    "#ax.set_title(\"AWS Total Cost for Jun, 2024 by Services over $100,000 \\n\")\n",
    "#plt.xticks(rotation=90) \n",
    "ax.set_xticklabels(ax.get_xticklabels(), rotation=90, ha='center')\n",
    "#ax.set_xticklabels(labels=services_df['Service'],rotation=45)\n",
    "plt.gcf().axes[0].yaxis.get_major_formatter().set_scientific(False)\n",
    "ax.yaxis.set_major_formatter(plt.FuncFormatter(lambda x, loc: \"${:,.2f}\".format(int(x))))\n",
    "plt.savefig(\"GCP Yearly Cost by Service ID\")"
   ]
  },
  {
   "cell_type": "markdown",
   "metadata": {},
   "source": [
    "# This section is a manual way to get rows without SQL < BEGIN >"
   ]
  },
  {
   "cell_type": "code",
   "execution_count": 30,
   "metadata": {},
   "outputs": [],
   "source": [
    "\n",
    "tbl = client.get_table(table_id)\n",
    "schema = tbl.schema"
   ]
  },
  {
   "cell_type": "code",
   "execution_count": 31,
   "metadata": {},
   "outputs": [
    {
     "data": {
      "text/plain": [
       "22"
      ]
     },
     "execution_count": 31,
     "metadata": {},
     "output_type": "execute_result"
    }
   ],
   "source": [
    "len(schema)"
   ]
  },
  {
   "cell_type": "code",
   "execution_count": 32,
   "metadata": {},
   "outputs": [
    {
     "name": "stdout",
     "output_type": "stream",
     "text": [
      "------------------------------\n",
      "billing_account_id\n",
      "STRING\n",
      "NULLABLE\n",
      "\n",
      "------------------------------\n",
      "service\n",
      "RECORD\n",
      "NULLABLE\n",
      "\n",
      "------------------------------\n",
      "sku\n",
      "RECORD\n",
      "NULLABLE\n",
      "\n",
      "------------------------------\n",
      "usage_start_time\n",
      "TIMESTAMP\n",
      "NULLABLE\n",
      "\n",
      "------------------------------\n",
      "usage_end_time\n",
      "TIMESTAMP\n",
      "NULLABLE\n",
      "\n",
      "------------------------------\n",
      "project\n",
      "RECORD\n",
      "NULLABLE\n",
      "\n",
      "------------------------------\n",
      "labels\n",
      "RECORD\n",
      "REPEATED\n",
      "\n",
      "------------------------------\n",
      "system_labels\n",
      "RECORD\n",
      "REPEATED\n",
      "\n",
      "------------------------------\n",
      "location\n",
      "RECORD\n",
      "NULLABLE\n",
      "\n",
      "------------------------------\n",
      "tags\n",
      "RECORD\n",
      "REPEATED\n",
      "\n",
      "------------------------------\n",
      "export_time\n",
      "TIMESTAMP\n",
      "NULLABLE\n",
      "\n",
      "------------------------------\n",
      "cost\n",
      "FLOAT\n",
      "NULLABLE\n",
      "\n",
      "------------------------------\n",
      "currency\n",
      "STRING\n",
      "NULLABLE\n",
      "\n",
      "------------------------------\n",
      "currency_conversion_rate\n",
      "FLOAT\n",
      "NULLABLE\n",
      "\n",
      "------------------------------\n",
      "usage\n",
      "RECORD\n",
      "NULLABLE\n",
      "\n",
      "------------------------------\n",
      "credits\n",
      "RECORD\n",
      "REPEATED\n",
      "\n",
      "------------------------------\n",
      "invoice\n",
      "RECORD\n",
      "NULLABLE\n",
      "\n",
      "------------------------------\n",
      "cost_type\n",
      "STRING\n",
      "NULLABLE\n",
      "\n",
      "------------------------------\n",
      "adjustment_info\n",
      "RECORD\n",
      "NULLABLE\n",
      "\n",
      "------------------------------\n",
      "cost_at_list\n",
      "FLOAT\n",
      "NULLABLE\n",
      "None\n",
      "------------------------------\n",
      "transaction_type\n",
      "STRING\n",
      "NULLABLE\n",
      "None\n",
      "------------------------------\n",
      "seller_name\n",
      "STRING\n",
      "NULLABLE\n",
      "None\n"
     ]
    }
   ],
   "source": [
    "column_names = []\n",
    "for i in range(0,22):\n",
    "    print(\"-\"*30)\n",
    "    print (tbl.schema[i].name)\n",
    "    print (tbl.schema[i].field_type)\n",
    "    print (tbl.schema[i].mode)\n",
    "    print (tbl.schema[i].description)\n",
    "    column_names.append(tbl.schema[i].name)"
   ]
  },
  {
   "cell_type": "code",
   "execution_count": 33,
   "metadata": {},
   "outputs": [
    {
     "data": {
      "text/plain": [
       "['billing_account_id',\n",
       " 'service',\n",
       " 'sku',\n",
       " 'usage_start_time',\n",
       " 'usage_end_time',\n",
       " 'project',\n",
       " 'labels',\n",
       " 'system_labels',\n",
       " 'location',\n",
       " 'tags',\n",
       " 'export_time',\n",
       " 'cost',\n",
       " 'currency',\n",
       " 'currency_conversion_rate',\n",
       " 'usage',\n",
       " 'credits',\n",
       " 'invoice',\n",
       " 'cost_type',\n",
       " 'adjustment_info',\n",
       " 'cost_at_list',\n",
       " 'transaction_type',\n",
       " 'seller_name']"
      ]
     },
     "execution_count": 33,
     "metadata": {},
     "output_type": "execute_result"
    }
   ],
   "source": [
    "column_names"
   ]
  },
  {
   "cell_type": "code",
   "execution_count": 34,
   "metadata": {},
   "outputs": [
    {
     "name": "stdout",
     "output_type": "stream",
     "text": [
      "Empty DataFrame\n",
      "Columns: [billing_account_id, service, sku, usage_start_time, usage_end_time, project, labels, system_labels, location, tags, export_time, cost, currency, currency_conversion_rate, usage, credits, invoice, cost_type, adjustment_info, cost_at_list, transaction_type, seller_name]\n",
      "Index: []\n",
      "\n",
      "[0 rows x 22 columns]\n"
     ]
    }
   ],
   "source": [
    "schema_df = pd.DataFrame(columns=column_names)\n",
    "\n",
    "print(schema_df)"
   ]
  },
  {
   "cell_type": "code",
   "execution_count": 35,
   "metadata": {},
   "outputs": [
    {
     "data": {
      "text/plain": [
       "Index(['billing_account_id', 'service', 'sku', 'usage_start_time',\n",
       "       'usage_end_time', 'project', 'labels', 'system_labels', 'location',\n",
       "       'tags', 'export_time', 'cost', 'currency', 'currency_conversion_rate',\n",
       "       'usage', 'credits', 'invoice', 'cost_type', 'adjustment_info',\n",
       "       'cost_at_list', 'transaction_type', 'seller_name'],\n",
       "      dtype='object')"
      ]
     },
     "execution_count": 35,
     "metadata": {},
     "output_type": "execute_result"
    }
   ],
   "source": [
    "schema_df.columns "
   ]
  },
  {
   "cell_type": "code",
   "execution_count": 36,
   "metadata": {},
   "outputs": [
    {
     "data": {
      "text/html": [
       "<div>\n",
       "<style scoped>\n",
       "    .dataframe tbody tr th:only-of-type {\n",
       "        vertical-align: middle;\n",
       "    }\n",
       "\n",
       "    .dataframe tbody tr th {\n",
       "        vertical-align: top;\n",
       "    }\n",
       "\n",
       "    .dataframe thead th {\n",
       "        text-align: right;\n",
       "    }\n",
       "</style>\n",
       "<table border=\"1\" class=\"dataframe\">\n",
       "  <thead>\n",
       "    <tr style=\"text-align: right;\">\n",
       "      <th></th>\n",
       "      <th>billing_account_id</th>\n",
       "      <th>service</th>\n",
       "      <th>sku</th>\n",
       "      <th>usage_start_time</th>\n",
       "      <th>usage_end_time</th>\n",
       "      <th>project</th>\n",
       "      <th>labels</th>\n",
       "      <th>system_labels</th>\n",
       "      <th>location</th>\n",
       "      <th>tags</th>\n",
       "      <th>...</th>\n",
       "      <th>currency</th>\n",
       "      <th>currency_conversion_rate</th>\n",
       "      <th>usage</th>\n",
       "      <th>credits</th>\n",
       "      <th>invoice</th>\n",
       "      <th>cost_type</th>\n",
       "      <th>adjustment_info</th>\n",
       "      <th>cost_at_list</th>\n",
       "      <th>transaction_type</th>\n",
       "      <th>seller_name</th>\n",
       "    </tr>\n",
       "  </thead>\n",
       "  <tbody>\n",
       "  </tbody>\n",
       "</table>\n",
       "<p>0 rows × 22 columns</p>\n",
       "</div>"
      ],
      "text/plain": [
       "Empty DataFrame\n",
       "Columns: [billing_account_id, service, sku, usage_start_time, usage_end_time, project, labels, system_labels, location, tags, export_time, cost, currency, currency_conversion_rate, usage, credits, invoice, cost_type, adjustment_info, cost_at_list, transaction_type, seller_name]\n",
       "Index: []\n",
       "\n",
       "[0 rows x 22 columns]"
      ]
     },
     "execution_count": 36,
     "metadata": {},
     "output_type": "execute_result"
    }
   ],
   "source": [
    "schema_df"
   ]
  },
  {
   "cell_type": "code",
   "execution_count": 38,
   "metadata": {},
   "outputs": [],
   "source": [
    "rows = client.list_rows(table_id)"
   ]
  },
  {
   "cell_type": "code",
   "execution_count": 41,
   "metadata": {},
   "outputs": [
    {
     "data": {
      "text/plain": [
       "'\\nj = 0\\nsave_record = 0\\nfor row in rows:\\n    data = []\\n    #print(row)\\n    print(j)\\n    j += 1\\n    save_record += 1\\n    for i in range(0,22):\\n        #print(column_names[i],\\':\\')\\n        #print(row[i])\\n        data.append(row[i])\\n        #if i in [1,2] :\\n        #    print(rows[0][i][\\'id\\'], \" - \", rows[0][i][\\'description\\'])\\n    row_data = dict(zip(column_names,data))\\n    schema_df = schema_df.append(row_data, ignore_index=True)\\n    if save_record == 5000 :\\n        save_record = 0\\n        schema_df.to_csv(\"GCP.csv\")\\n        print(\"CSV File Saved.....\")\\n    \\n    \\n'"
      ]
     },
     "execution_count": 41,
     "metadata": {},
     "output_type": "execute_result"
    }
   ],
   "source": [
    "\n",
    "j = 0\n",
    "save_record = 0\n",
    "for row in rows:\n",
    "    data = []\n",
    "    #print(row)\n",
    "    print(j)\n",
    "    j += 1\n",
    "    save_record += 1\n",
    "    for i in range(0,22):\n",
    "        #print(column_names[i],':')\n",
    "        #print(row[i])\n",
    "        data.append(row[i])\n",
    "        #if i in [1,2] :\n",
    "        #    print(rows[0][i]['id'], \" - \", rows[0][i]['description'])\n",
    "    row_data = dict(zip(column_names,data))\n",
    "    schema_df = schema_df.append(row_data, ignore_index=True)\n",
    "    if save_record == 5000 :\n",
    "        save_record = 0\n",
    "        schema_df.to_csv(\"GCP.csv\")\n",
    "        print(\"CSV File Saved.....\")\n",
    "    \n",
    "    "
   ]
  },
  {
   "cell_type": "code",
   "execution_count": 43,
   "metadata": {},
   "outputs": [
    {
     "data": {
      "text/plain": [
       "<google.cloud.bigquery.table.TableListItem at 0x112199d90>"
      ]
     },
     "execution_count": 43,
     "metadata": {},
     "output_type": "execute_result"
    }
   ],
   "source": [
    "table"
   ]
  },
  {
   "cell_type": "code",
   "execution_count": 45,
   "metadata": {},
   "outputs": [
    {
     "data": {
      "text/plain": [
       "'\\niterator = client.list_rows(table)\\npage = next(iterator.pages)\\nrows = list(page)\\ntotal = iterator.total_rows\\ntoken = iterator.next_page_token\\n'"
      ]
     },
     "execution_count": 45,
     "metadata": {},
     "output_type": "execute_result"
    }
   ],
   "source": [
    "\n",
    "iterator = client.list_rows(table)\n",
    "page = next(iterator.pages)\n",
    "rows = list(page)\n",
    "total = iterator.total_rows\n",
    "token = iterator.next_page_token\n",
    "\n"
   ]
  },
  {
   "cell_type": "markdown",
   "metadata": {},
   "source": [
    "# This section is a manual way to get rows without SQL < END >"
   ]
  }
 ],
 "metadata": {
  "kernelspec": {
   "display_name": "Python 3",
   "language": "python",
   "name": "python3"
  },
  "language_info": {
   "codemirror_mode": {
    "name": "ipython",
    "version": 3
   },
   "file_extension": ".py",
   "mimetype": "text/x-python",
   "name": "python",
   "nbconvert_exporter": "python",
   "pygments_lexer": "ipython3",
   "version": "3.13.2"
  }
 },
 "nbformat": 4,
 "nbformat_minor": 2
}
